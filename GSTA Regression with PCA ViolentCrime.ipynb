{
 "cells": [
  {
   "cell_type": "code",
   "execution_count": 1,
   "metadata": {},
   "outputs": [],
   "source": [
    "#Replacing a Black-box model by a Global Single Tree Approximation\n",
    "#A regression case - Violent Crime\n",
    "#Laurent Deborde 2019 march 24th"
   ]
  },
  {
   "cell_type": "code",
   "execution_count": 2,
   "metadata": {},
   "outputs": [],
   "source": [
    "import numpy as np\n",
    "import pandas as pd\n",
    "import seaborn as sns\n",
    "import matplotlib.pyplot as plt\n",
    "from sklearn.model_selection import cross_val_score\n",
    "import random as rd"
   ]
  },
  {
   "cell_type": "code",
   "execution_count": 3,
   "metadata": {},
   "outputs": [],
   "source": [
    "# load the data (violent crime usual data less crime stats + columns names)\n",
    "# data source is http://archive.ics.uci.edu/ml/datasets/communities+and+crime\n",
    "#Creator: Michael Redmond (redmond '@' lasalle.edu); Computer Science; La Salle University; Philadelphia, PA, 19141, USA \n",
    "#-- culled from 1990 US Census, 1995 US FBI Uniform Crime Report, 1990 US Law Enforcement Management and Administrative Statistics Survey, available from ICPSR at U of Michigan. \n",
    "#-- Donor: Michael Redmond (redmond '@' lasalle.edu); Computer Science; La Salle University; Philadelphia, PA, 19141, USA \n",
    "#-- Date: July 2009"
   ]
  },
  {
   "cell_type": "code",
   "execution_count": 4,
   "metadata": {},
   "outputs": [],
   "source": [
    "d=pd.read_excel('VCrimeU_C.xls')"
   ]
  },
  {
   "cell_type": "code",
   "execution_count": 5,
   "metadata": {
    "scrolled": true
   },
   "outputs": [
    {
     "name": "stdout",
     "output_type": "stream",
     "text": [
      "<class 'pandas.core.frame.DataFrame'>\n",
      "RangeIndex: 2215 entries, 0 to 2214\n",
      "Columns: 127 entries, communityname to nonViolPerPop\n",
      "dtypes: float64(110), int64(16), object(1)\n",
      "memory usage: 2.1+ MB\n"
     ]
    }
   ],
   "source": [
    "d.info()"
   ]
  },
  {
   "cell_type": "code",
   "execution_count": 6,
   "metadata": {},
   "outputs": [
    {
     "data": {
      "text/plain": [
       "Index(['communityname', 'population', 'householdsize', 'racepctblack',\n",
       "       'racePctWhite', 'racePctAsian', 'racePctHisp', 'agePct12t21',\n",
       "       'agePct12t29', 'agePct16t24',\n",
       "       ...\n",
       "       'PopDens', 'PctUsePubTrans', 'PolicCars', 'PolicOperBudg',\n",
       "       'LemasPctPolicOnPatr', 'LemasGangUnitDeploy', 'LemasPctOfficDrugUn',\n",
       "       'PolicBudgPerPop', 'ViolentCrimesPerPop', 'nonViolPerPop'],\n",
       "      dtype='object', length=127)"
      ]
     },
     "execution_count": 6,
     "metadata": {},
     "output_type": "execute_result"
    }
   ],
   "source": [
    "d.columns"
   ]
  },
  {
   "cell_type": "code",
   "execution_count": 7,
   "metadata": {},
   "outputs": [
    {
     "data": {
      "text/html": [
       "<div>\n",
       "<style scoped>\n",
       "    .dataframe tbody tr th:only-of-type {\n",
       "        vertical-align: middle;\n",
       "    }\n",
       "\n",
       "    .dataframe tbody tr th {\n",
       "        vertical-align: top;\n",
       "    }\n",
       "\n",
       "    .dataframe thead th {\n",
       "        text-align: right;\n",
       "    }\n",
       "</style>\n",
       "<table border=\"1\" class=\"dataframe\">\n",
       "  <thead>\n",
       "    <tr style=\"text-align: right;\">\n",
       "      <th></th>\n",
       "      <th>population</th>\n",
       "      <th>householdsize</th>\n",
       "      <th>racepctblack</th>\n",
       "      <th>racePctWhite</th>\n",
       "      <th>racePctAsian</th>\n",
       "      <th>racePctHisp</th>\n",
       "      <th>agePct12t21</th>\n",
       "      <th>agePct12t29</th>\n",
       "      <th>agePct16t24</th>\n",
       "      <th>agePct65up</th>\n",
       "      <th>...</th>\n",
       "      <th>PopDens</th>\n",
       "      <th>PctUsePubTrans</th>\n",
       "      <th>PolicCars</th>\n",
       "      <th>PolicOperBudg</th>\n",
       "      <th>LemasPctPolicOnPatr</th>\n",
       "      <th>LemasGangUnitDeploy</th>\n",
       "      <th>LemasPctOfficDrugUn</th>\n",
       "      <th>PolicBudgPerPop</th>\n",
       "      <th>ViolentCrimesPerPop</th>\n",
       "      <th>nonViolPerPop</th>\n",
       "    </tr>\n",
       "  </thead>\n",
       "  <tbody>\n",
       "    <tr>\n",
       "      <th>count</th>\n",
       "      <td>2.215000e+03</td>\n",
       "      <td>2205.000000</td>\n",
       "      <td>2193.000000</td>\n",
       "      <td>2215.000000</td>\n",
       "      <td>2197.000000</td>\n",
       "      <td>2200.000000</td>\n",
       "      <td>2215.000000</td>\n",
       "      <td>2215.000000</td>\n",
       "      <td>2212.000000</td>\n",
       "      <td>2207.000000</td>\n",
       "      <td>...</td>\n",
       "      <td>2215.000000</td>\n",
       "      <td>2062.000000</td>\n",
       "      <td>343.000000</td>\n",
       "      <td>3.430000e+02</td>\n",
       "      <td>343.000000</td>\n",
       "      <td>92.0</td>\n",
       "      <td>324.000000</td>\n",
       "      <td>3.430000e+02</td>\n",
       "      <td>1993.000000</td>\n",
       "      <td>2118.000000</td>\n",
       "    </tr>\n",
       "    <tr>\n",
       "      <th>mean</th>\n",
       "      <td>5.311798e+04</td>\n",
       "      <td>2.706907</td>\n",
       "      <td>9.402303</td>\n",
       "      <td>83.979819</td>\n",
       "      <td>2.668411</td>\n",
       "      <td>7.983927</td>\n",
       "      <td>14.445837</td>\n",
       "      <td>27.644840</td>\n",
       "      <td>13.982794</td>\n",
       "      <td>11.857096</td>\n",
       "      <td>...</td>\n",
       "      <td>2783.835034</td>\n",
       "      <td>3.244952</td>\n",
       "      <td>185.478134</td>\n",
       "      <td>3.217602e+07</td>\n",
       "      <td>87.130933</td>\n",
       "      <td>10.0</td>\n",
       "      <td>6.568086</td>\n",
       "      <td>1.535779e+05</td>\n",
       "      <td>589.374496</td>\n",
       "      <td>4908.241804</td>\n",
       "    </tr>\n",
       "    <tr>\n",
       "      <th>std</th>\n",
       "      <td>2.046203e+05</td>\n",
       "      <td>0.333732</td>\n",
       "      <td>14.300521</td>\n",
       "      <td>16.419080</td>\n",
       "      <td>4.487139</td>\n",
       "      <td>14.632392</td>\n",
       "      <td>4.518623</td>\n",
       "      <td>6.181517</td>\n",
       "      <td>5.971151</td>\n",
       "      <td>4.771670</td>\n",
       "      <td>...</td>\n",
       "      <td>2828.993341</td>\n",
       "      <td>5.024095</td>\n",
       "      <td>318.542834</td>\n",
       "      <td>1.104566e+08</td>\n",
       "      <td>10.349612</td>\n",
       "      <td>0.0</td>\n",
       "      <td>4.397051</td>\n",
       "      <td>2.030409e+05</td>\n",
       "      <td>614.797082</td>\n",
       "      <td>2739.708901</td>\n",
       "    </tr>\n",
       "    <tr>\n",
       "      <th>min</th>\n",
       "      <td>1.000500e+04</td>\n",
       "      <td>1.600000</td>\n",
       "      <td>0.010000</td>\n",
       "      <td>2.680000</td>\n",
       "      <td>0.030000</td>\n",
       "      <td>0.120000</td>\n",
       "      <td>4.580000</td>\n",
       "      <td>9.380000</td>\n",
       "      <td>4.640000</td>\n",
       "      <td>1.660000</td>\n",
       "      <td>...</td>\n",
       "      <td>10.000000</td>\n",
       "      <td>0.020000</td>\n",
       "      <td>20.000000</td>\n",
       "      <td>2.380215e+06</td>\n",
       "      <td>10.850000</td>\n",
       "      <td>10.0</td>\n",
       "      <td>0.440000</td>\n",
       "      <td>1.526040e+04</td>\n",
       "      <td>5.350000</td>\n",
       "      <td>116.790000</td>\n",
       "    </tr>\n",
       "    <tr>\n",
       "      <th>25%</th>\n",
       "      <td>1.436600e+04</td>\n",
       "      <td>2.500000</td>\n",
       "      <td>0.850000</td>\n",
       "      <td>76.320000</td>\n",
       "      <td>0.610000</td>\n",
       "      <td>0.920000</td>\n",
       "      <td>12.250000</td>\n",
       "      <td>24.415000</td>\n",
       "      <td>11.320000</td>\n",
       "      <td>8.785000</td>\n",
       "      <td>...</td>\n",
       "      <td>1181.900000</td>\n",
       "      <td>0.490000</td>\n",
       "      <td>54.000000</td>\n",
       "      <td>7.275060e+06</td>\n",
       "      <td>84.295000</td>\n",
       "      <td>10.0</td>\n",
       "      <td>4.010000</td>\n",
       "      <td>8.809435e+04</td>\n",
       "      <td>161.730000</td>\n",
       "      <td>2918.070000</td>\n",
       "    </tr>\n",
       "    <tr>\n",
       "      <th>50%</th>\n",
       "      <td>2.279200e+04</td>\n",
       "      <td>2.650000</td>\n",
       "      <td>2.880000</td>\n",
       "      <td>90.350000</td>\n",
       "      <td>1.230000</td>\n",
       "      <td>2.185000</td>\n",
       "      <td>13.620000</td>\n",
       "      <td>26.780000</td>\n",
       "      <td>12.550000</td>\n",
       "      <td>11.760000</td>\n",
       "      <td>...</td>\n",
       "      <td>2027.300000</td>\n",
       "      <td>1.390000</td>\n",
       "      <td>86.000000</td>\n",
       "      <td>1.116411e+07</td>\n",
       "      <td>89.580000</td>\n",
       "      <td>10.0</td>\n",
       "      <td>5.600000</td>\n",
       "      <td>1.145820e+05</td>\n",
       "      <td>374.070000</td>\n",
       "      <td>4425.450000</td>\n",
       "    </tr>\n",
       "    <tr>\n",
       "      <th>75%</th>\n",
       "      <td>4.302400e+04</td>\n",
       "      <td>2.840000</td>\n",
       "      <td>11.430000</td>\n",
       "      <td>96.225000</td>\n",
       "      <td>2.660000</td>\n",
       "      <td>7.880000</td>\n",
       "      <td>15.360000</td>\n",
       "      <td>29.205000</td>\n",
       "      <td>14.350000</td>\n",
       "      <td>14.420000</td>\n",
       "      <td>...</td>\n",
       "      <td>3321.700000</td>\n",
       "      <td>3.560000</td>\n",
       "      <td>189.500000</td>\n",
       "      <td>2.014754e+07</td>\n",
       "      <td>93.200000</td>\n",
       "      <td>10.0</td>\n",
       "      <td>7.870000</td>\n",
       "      <td>1.556557e+05</td>\n",
       "      <td>794.410000</td>\n",
       "      <td>6229.280000</td>\n",
       "    </tr>\n",
       "    <tr>\n",
       "      <th>max</th>\n",
       "      <td>7.322564e+06</td>\n",
       "      <td>5.280000</td>\n",
       "      <td>96.670000</td>\n",
       "      <td>99.630000</td>\n",
       "      <td>57.460000</td>\n",
       "      <td>95.290000</td>\n",
       "      <td>54.400000</td>\n",
       "      <td>70.510000</td>\n",
       "      <td>63.620000</td>\n",
       "      <td>52.770000</td>\n",
       "      <td>...</td>\n",
       "      <td>44229.900000</td>\n",
       "      <td>54.330000</td>\n",
       "      <td>3187.000000</td>\n",
       "      <td>1.617293e+09</td>\n",
       "      <td>99.940000</td>\n",
       "      <td>10.0</td>\n",
       "      <td>48.440000</td>\n",
       "      <td>2.422367e+06</td>\n",
       "      <td>4877.060000</td>\n",
       "      <td>27119.760000</td>\n",
       "    </tr>\n",
       "  </tbody>\n",
       "</table>\n",
       "<p>8 rows × 126 columns</p>\n",
       "</div>"
      ],
      "text/plain": [
       "         population  householdsize  racepctblack  racePctWhite  racePctAsian  \\\n",
       "count  2.215000e+03    2205.000000   2193.000000   2215.000000   2197.000000   \n",
       "mean   5.311798e+04       2.706907      9.402303     83.979819      2.668411   \n",
       "std    2.046203e+05       0.333732     14.300521     16.419080      4.487139   \n",
       "min    1.000500e+04       1.600000      0.010000      2.680000      0.030000   \n",
       "25%    1.436600e+04       2.500000      0.850000     76.320000      0.610000   \n",
       "50%    2.279200e+04       2.650000      2.880000     90.350000      1.230000   \n",
       "75%    4.302400e+04       2.840000     11.430000     96.225000      2.660000   \n",
       "max    7.322564e+06       5.280000     96.670000     99.630000     57.460000   \n",
       "\n",
       "       racePctHisp  agePct12t21  agePct12t29  agePct16t24   agePct65up  \\\n",
       "count  2200.000000  2215.000000  2215.000000  2212.000000  2207.000000   \n",
       "mean      7.983927    14.445837    27.644840    13.982794    11.857096   \n",
       "std      14.632392     4.518623     6.181517     5.971151     4.771670   \n",
       "min       0.120000     4.580000     9.380000     4.640000     1.660000   \n",
       "25%       0.920000    12.250000    24.415000    11.320000     8.785000   \n",
       "50%       2.185000    13.620000    26.780000    12.550000    11.760000   \n",
       "75%       7.880000    15.360000    29.205000    14.350000    14.420000   \n",
       "max      95.290000    54.400000    70.510000    63.620000    52.770000   \n",
       "\n",
       "           ...             PopDens  PctUsePubTrans    PolicCars  \\\n",
       "count      ...         2215.000000     2062.000000   343.000000   \n",
       "mean       ...         2783.835034        3.244952   185.478134   \n",
       "std        ...         2828.993341        5.024095   318.542834   \n",
       "min        ...           10.000000        0.020000    20.000000   \n",
       "25%        ...         1181.900000        0.490000    54.000000   \n",
       "50%        ...         2027.300000        1.390000    86.000000   \n",
       "75%        ...         3321.700000        3.560000   189.500000   \n",
       "max        ...        44229.900000       54.330000  3187.000000   \n",
       "\n",
       "       PolicOperBudg  LemasPctPolicOnPatr  LemasGangUnitDeploy  \\\n",
       "count   3.430000e+02           343.000000                 92.0   \n",
       "mean    3.217602e+07            87.130933                 10.0   \n",
       "std     1.104566e+08            10.349612                  0.0   \n",
       "min     2.380215e+06            10.850000                 10.0   \n",
       "25%     7.275060e+06            84.295000                 10.0   \n",
       "50%     1.116411e+07            89.580000                 10.0   \n",
       "75%     2.014754e+07            93.200000                 10.0   \n",
       "max     1.617293e+09            99.940000                 10.0   \n",
       "\n",
       "       LemasPctOfficDrugUn  PolicBudgPerPop  ViolentCrimesPerPop  \\\n",
       "count           324.000000     3.430000e+02          1993.000000   \n",
       "mean              6.568086     1.535779e+05           589.374496   \n",
       "std               4.397051     2.030409e+05           614.797082   \n",
       "min               0.440000     1.526040e+04             5.350000   \n",
       "25%               4.010000     8.809435e+04           161.730000   \n",
       "50%               5.600000     1.145820e+05           374.070000   \n",
       "75%               7.870000     1.556557e+05           794.410000   \n",
       "max              48.440000     2.422367e+06          4877.060000   \n",
       "\n",
       "       nonViolPerPop  \n",
       "count    2118.000000  \n",
       "mean     4908.241804  \n",
       "std      2739.708901  \n",
       "min       116.790000  \n",
       "25%      2918.070000  \n",
       "50%      4425.450000  \n",
       "75%      6229.280000  \n",
       "max     27119.760000  \n",
       "\n",
       "[8 rows x 126 columns]"
      ]
     },
     "execution_count": 7,
     "metadata": {},
     "output_type": "execute_result"
    }
   ],
   "source": [
    "d.describe()"
   ]
  },
  {
   "cell_type": "code",
   "execution_count": 8,
   "metadata": {},
   "outputs": [],
   "source": [
    "#we won't use the nonViolentCrime column \n",
    "d=d.drop('nonViolPerPop',axis=1)"
   ]
  },
  {
   "cell_type": "code",
   "execution_count": 9,
   "metadata": {},
   "outputs": [],
   "source": [
    "#drop points for which the target is unknown\n",
    "d=d.dropna(subset={'ViolentCrimesPerPop'})"
   ]
  },
  {
   "cell_type": "code",
   "execution_count": 10,
   "metadata": {},
   "outputs": [],
   "source": [
    "#for the sake of simplicity we will drop line and columns with too many missing values "
   ]
  },
  {
   "cell_type": "code",
   "execution_count": 11,
   "metadata": {},
   "outputs": [],
   "source": [
    "#drop community name (not an index as its repeated)\n",
    "d=d.drop('communityname',axis=1)"
   ]
  },
  {
   "cell_type": "code",
   "execution_count": 12,
   "metadata": {},
   "outputs": [],
   "source": [
    "# drop columns with too many missing values\n",
    "d=d.drop('numbUrban',axis=1)\n",
    "d=d.drop('pctUrban',axis=1)\n",
    "d1=d\n",
    "for colonne in d.columns:\n",
    "    if d[colonne].isnull().sum() > 1000:\n",
    "        d1=d1.drop(colonne,axis=1)"
   ]
  },
  {
   "cell_type": "code",
   "execution_count": 13,
   "metadata": {},
   "outputs": [],
   "source": [
    "#for the sake drop lines with missing values \n",
    "d1=d1.dropna()"
   ]
  },
  {
   "cell_type": "code",
   "execution_count": 14,
   "metadata": {},
   "outputs": [
    {
     "data": {
      "text/html": [
       "<div>\n",
       "<style scoped>\n",
       "    .dataframe tbody tr th:only-of-type {\n",
       "        vertical-align: middle;\n",
       "    }\n",
       "\n",
       "    .dataframe tbody tr th {\n",
       "        vertical-align: top;\n",
       "    }\n",
       "\n",
       "    .dataframe thead th {\n",
       "        text-align: right;\n",
       "    }\n",
       "</style>\n",
       "<table border=\"1\" class=\"dataframe\">\n",
       "  <thead>\n",
       "    <tr style=\"text-align: right;\">\n",
       "      <th></th>\n",
       "      <th>population</th>\n",
       "      <th>householdsize</th>\n",
       "      <th>racepctblack</th>\n",
       "      <th>racePctWhite</th>\n",
       "      <th>racePctAsian</th>\n",
       "      <th>racePctHisp</th>\n",
       "      <th>agePct12t21</th>\n",
       "      <th>agePct12t29</th>\n",
       "      <th>agePct16t24</th>\n",
       "      <th>agePct65up</th>\n",
       "      <th>...</th>\n",
       "      <th>MedOwnCostPctIncNoMt</th>\n",
       "      <th>PctForeignBorn</th>\n",
       "      <th>PctBornSameState</th>\n",
       "      <th>PctSameHouse85</th>\n",
       "      <th>PctSameCity85</th>\n",
       "      <th>PctSameState85</th>\n",
       "      <th>LandArea</th>\n",
       "      <th>PopDens</th>\n",
       "      <th>PctUsePubTrans</th>\n",
       "      <th>ViolentCrimesPerPop</th>\n",
       "    </tr>\n",
       "  </thead>\n",
       "  <tbody>\n",
       "    <tr>\n",
       "      <th>count</th>\n",
       "      <td>1.050000e+03</td>\n",
       "      <td>1050.000000</td>\n",
       "      <td>1050.000000</td>\n",
       "      <td>1050.000000</td>\n",
       "      <td>1050.000000</td>\n",
       "      <td>1050.000000</td>\n",
       "      <td>1050.000000</td>\n",
       "      <td>1050.000000</td>\n",
       "      <td>1050.000000</td>\n",
       "      <td>1050.000000</td>\n",
       "      <td>...</td>\n",
       "      <td>1050.000000</td>\n",
       "      <td>1050.000000</td>\n",
       "      <td>1050.00000</td>\n",
       "      <td>1050.000000</td>\n",
       "      <td>1050.000000</td>\n",
       "      <td>1050.000000</td>\n",
       "      <td>1050.000000</td>\n",
       "      <td>1050.000000</td>\n",
       "      <td>1050.000000</td>\n",
       "      <td>1050.000000</td>\n",
       "    </tr>\n",
       "    <tr>\n",
       "      <th>mean</th>\n",
       "      <td>6.408722e+04</td>\n",
       "      <td>2.703981</td>\n",
       "      <td>11.220505</td>\n",
       "      <td>80.778552</td>\n",
       "      <td>3.023848</td>\n",
       "      <td>9.593867</td>\n",
       "      <td>14.502476</td>\n",
       "      <td>28.288019</td>\n",
       "      <td>14.313457</td>\n",
       "      <td>11.577676</td>\n",
       "      <td>...</td>\n",
       "      <td>13.026095</td>\n",
       "      <td>8.292000</td>\n",
       "      <td>58.64019</td>\n",
       "      <td>49.441638</td>\n",
       "      <td>76.080390</td>\n",
       "      <td>86.820752</td>\n",
       "      <td>36.714667</td>\n",
       "      <td>3010.049143</td>\n",
       "      <td>3.422019</td>\n",
       "      <td>687.176371</td>\n",
       "    </tr>\n",
       "    <tr>\n",
       "      <th>std</th>\n",
       "      <td>1.522935e+05</td>\n",
       "      <td>0.337810</td>\n",
       "      <td>15.086994</td>\n",
       "      <td>17.167271</td>\n",
       "      <td>4.748110</td>\n",
       "      <td>15.156706</td>\n",
       "      <td>4.131349</td>\n",
       "      <td>5.821422</td>\n",
       "      <td>5.561958</td>\n",
       "      <td>4.689792</td>\n",
       "      <td>...</td>\n",
       "      <td>1.478581</td>\n",
       "      <td>9.081596</td>\n",
       "      <td>16.75484</td>\n",
       "      <td>10.155655</td>\n",
       "      <td>10.530017</td>\n",
       "      <td>7.766938</td>\n",
       "      <td>155.324683</td>\n",
       "      <td>3142.959621</td>\n",
       "      <td>5.374771</td>\n",
       "      <td>658.052239</td>\n",
       "    </tr>\n",
       "    <tr>\n",
       "      <th>min</th>\n",
       "      <td>1.012900e+04</td>\n",
       "      <td>1.880000</td>\n",
       "      <td>0.100000</td>\n",
       "      <td>7.210000</td>\n",
       "      <td>0.120000</td>\n",
       "      <td>0.260000</td>\n",
       "      <td>5.290000</td>\n",
       "      <td>10.550000</td>\n",
       "      <td>4.930000</td>\n",
       "      <td>1.660000</td>\n",
       "      <td>...</td>\n",
       "      <td>10.100000</td>\n",
       "      <td>0.410000</td>\n",
       "      <td>7.85000</td>\n",
       "      <td>15.100000</td>\n",
       "      <td>30.330000</td>\n",
       "      <td>40.400000</td>\n",
       "      <td>0.900000</td>\n",
       "      <td>10.000000</td>\n",
       "      <td>0.020000</td>\n",
       "      <td>5.350000</td>\n",
       "    </tr>\n",
       "    <tr>\n",
       "      <th>25%</th>\n",
       "      <td>1.921400e+04</td>\n",
       "      <td>2.500000</td>\n",
       "      <td>1.225000</td>\n",
       "      <td>71.522500</td>\n",
       "      <td>0.750000</td>\n",
       "      <td>1.110000</td>\n",
       "      <td>12.390000</td>\n",
       "      <td>25.180000</td>\n",
       "      <td>11.682500</td>\n",
       "      <td>8.562500</td>\n",
       "      <td>...</td>\n",
       "      <td>11.900000</td>\n",
       "      <td>2.492500</td>\n",
       "      <td>46.75250</td>\n",
       "      <td>42.510000</td>\n",
       "      <td>71.175000</td>\n",
       "      <td>83.547500</td>\n",
       "      <td>9.100000</td>\n",
       "      <td>1315.250000</td>\n",
       "      <td>0.490000</td>\n",
       "      <td>227.622500</td>\n",
       "    </tr>\n",
       "    <tr>\n",
       "      <th>50%</th>\n",
       "      <td>3.099400e+04</td>\n",
       "      <td>2.640000</td>\n",
       "      <td>4.580000</td>\n",
       "      <td>86.445000</td>\n",
       "      <td>1.425000</td>\n",
       "      <td>3.085000</td>\n",
       "      <td>13.760000</td>\n",
       "      <td>27.315000</td>\n",
       "      <td>12.900000</td>\n",
       "      <td>11.500000</td>\n",
       "      <td>...</td>\n",
       "      <td>12.800000</td>\n",
       "      <td>4.960000</td>\n",
       "      <td>60.14500</td>\n",
       "      <td>49.850000</td>\n",
       "      <td>77.865000</td>\n",
       "      <td>88.920000</td>\n",
       "      <td>17.350000</td>\n",
       "      <td>2169.600000</td>\n",
       "      <td>1.465000</td>\n",
       "      <td>462.140000</td>\n",
       "    </tr>\n",
       "    <tr>\n",
       "      <th>75%</th>\n",
       "      <td>5.691550e+04</td>\n",
       "      <td>2.830000</td>\n",
       "      <td>15.352500</td>\n",
       "      <td>94.417500</td>\n",
       "      <td>3.085000</td>\n",
       "      <td>10.865000</td>\n",
       "      <td>15.470000</td>\n",
       "      <td>29.810000</td>\n",
       "      <td>14.895000</td>\n",
       "      <td>14.117500</td>\n",
       "      <td>...</td>\n",
       "      <td>13.700000</td>\n",
       "      <td>10.547500</td>\n",
       "      <td>72.47750</td>\n",
       "      <td>56.500000</td>\n",
       "      <td>83.370000</td>\n",
       "      <td>92.127500</td>\n",
       "      <td>31.150000</td>\n",
       "      <td>3398.425000</td>\n",
       "      <td>3.650000</td>\n",
       "      <td>919.220000</td>\n",
       "    </tr>\n",
       "    <tr>\n",
       "      <th>max</th>\n",
       "      <td>3.485398e+06</td>\n",
       "      <td>5.280000</td>\n",
       "      <td>89.950000</td>\n",
       "      <td>99.280000</td>\n",
       "      <td>45.190000</td>\n",
       "      <td>93.870000</td>\n",
       "      <td>50.800000</td>\n",
       "      <td>70.510000</td>\n",
       "      <td>63.620000</td>\n",
       "      <td>52.770000</td>\n",
       "      <td>...</td>\n",
       "      <td>23.400000</td>\n",
       "      <td>59.720000</td>\n",
       "      <td>91.12000</td>\n",
       "      <td>75.700000</td>\n",
       "      <td>95.810000</td>\n",
       "      <td>97.730000</td>\n",
       "      <td>3569.800000</td>\n",
       "      <td>44229.900000</td>\n",
       "      <td>52.590000</td>\n",
       "      <td>4026.590000</td>\n",
       "    </tr>\n",
       "  </tbody>\n",
       "</table>\n",
       "<p>8 rows × 97 columns</p>\n",
       "</div>"
      ],
      "text/plain": [
       "         population  householdsize  racepctblack  racePctWhite  racePctAsian  \\\n",
       "count  1.050000e+03    1050.000000   1050.000000   1050.000000   1050.000000   \n",
       "mean   6.408722e+04       2.703981     11.220505     80.778552      3.023848   \n",
       "std    1.522935e+05       0.337810     15.086994     17.167271      4.748110   \n",
       "min    1.012900e+04       1.880000      0.100000      7.210000      0.120000   \n",
       "25%    1.921400e+04       2.500000      1.225000     71.522500      0.750000   \n",
       "50%    3.099400e+04       2.640000      4.580000     86.445000      1.425000   \n",
       "75%    5.691550e+04       2.830000     15.352500     94.417500      3.085000   \n",
       "max    3.485398e+06       5.280000     89.950000     99.280000     45.190000   \n",
       "\n",
       "       racePctHisp  agePct12t21  agePct12t29  agePct16t24   agePct65up  \\\n",
       "count  1050.000000  1050.000000  1050.000000  1050.000000  1050.000000   \n",
       "mean      9.593867    14.502476    28.288019    14.313457    11.577676   \n",
       "std      15.156706     4.131349     5.821422     5.561958     4.689792   \n",
       "min       0.260000     5.290000    10.550000     4.930000     1.660000   \n",
       "25%       1.110000    12.390000    25.180000    11.682500     8.562500   \n",
       "50%       3.085000    13.760000    27.315000    12.900000    11.500000   \n",
       "75%      10.865000    15.470000    29.810000    14.895000    14.117500   \n",
       "max      93.870000    50.800000    70.510000    63.620000    52.770000   \n",
       "\n",
       "              ...           MedOwnCostPctIncNoMt  PctForeignBorn  \\\n",
       "count         ...                    1050.000000     1050.000000   \n",
       "mean          ...                      13.026095        8.292000   \n",
       "std           ...                       1.478581        9.081596   \n",
       "min           ...                      10.100000        0.410000   \n",
       "25%           ...                      11.900000        2.492500   \n",
       "50%           ...                      12.800000        4.960000   \n",
       "75%           ...                      13.700000       10.547500   \n",
       "max           ...                      23.400000       59.720000   \n",
       "\n",
       "       PctBornSameState  PctSameHouse85  PctSameCity85  PctSameState85  \\\n",
       "count        1050.00000     1050.000000    1050.000000     1050.000000   \n",
       "mean           58.64019       49.441638      76.080390       86.820752   \n",
       "std            16.75484       10.155655      10.530017        7.766938   \n",
       "min             7.85000       15.100000      30.330000       40.400000   \n",
       "25%            46.75250       42.510000      71.175000       83.547500   \n",
       "50%            60.14500       49.850000      77.865000       88.920000   \n",
       "75%            72.47750       56.500000      83.370000       92.127500   \n",
       "max            91.12000       75.700000      95.810000       97.730000   \n",
       "\n",
       "          LandArea       PopDens  PctUsePubTrans  ViolentCrimesPerPop  \n",
       "count  1050.000000   1050.000000     1050.000000          1050.000000  \n",
       "mean     36.714667   3010.049143        3.422019           687.176371  \n",
       "std     155.324683   3142.959621        5.374771           658.052239  \n",
       "min       0.900000     10.000000        0.020000             5.350000  \n",
       "25%       9.100000   1315.250000        0.490000           227.622500  \n",
       "50%      17.350000   2169.600000        1.465000           462.140000  \n",
       "75%      31.150000   3398.425000        3.650000           919.220000  \n",
       "max    3569.800000  44229.900000       52.590000          4026.590000  \n",
       "\n",
       "[8 rows x 97 columns]"
      ]
     },
     "execution_count": 14,
     "metadata": {},
     "output_type": "execute_result"
    }
   ],
   "source": [
    "d1.describe()"
   ]
  },
  {
   "cell_type": "code",
   "execution_count": 15,
   "metadata": {},
   "outputs": [
    {
     "data": {
      "text/plain": [
       "<matplotlib.axes._subplots.AxesSubplot at 0x1f8e4e9ccc0>"
      ]
     },
     "execution_count": 15,
     "metadata": {},
     "output_type": "execute_result"
    },
    {
     "data": {
      "image/png": "[encoded data removed]",
      "text/plain": [
       "<matplotlib.figure.Figure at 0x1f8e4e9cba8>"
      ]
     },
     "metadata": {},
     "output_type": "display_data"
    }
   ],
   "source": [
    "d1['ViolentCrimesPerPop'].hist()"
   ]
  },
  {
   "cell_type": "code",
   "execution_count": 16,
   "metadata": {},
   "outputs": [],
   "source": [
    "#separate the target and spilt between train and test\n",
    "y=d1['ViolentCrimesPerPop']\n",
    "X=d1.drop('ViolentCrimesPerPop',axis=1)\n",
    "from sklearn.model_selection import train_test_split\n",
    "X_train, X_test, y_train, y_test = train_test_split(X, y, random_state=42)"
   ]
  },
  {
   "cell_type": "markdown",
   "metadata": {},
   "source": [
    "## let's try to find a simple tree model"
   ]
  },
  {
   "cell_type": "code",
   "execution_count": 17,
   "metadata": {},
   "outputs": [],
   "source": [
    "param_grid = {'max_depth': range(1,15)}\n",
    "from sklearn.tree import DecisionTreeRegressor\n",
    "from sklearn.model_selection import GridSearchCV"
   ]
  },
  {
   "cell_type": "code",
   "execution_count": 18,
   "metadata": {},
   "outputs": [
    {
     "name": "stdout",
     "output_type": "stream",
     "text": [
      "Best parameters: {'max_depth': 3}\n",
      "Best cross-validation score: 0.47\n",
      "Test set score: 0.46\n"
     ]
    }
   ],
   "source": [
    "grid_search = GridSearchCV(DecisionTreeRegressor(), param_grid, cv=5,\n",
    "                          return_train_score=True)\n",
    "grid_search.fit(X_train, y_train)\n",
    "print(\"Best parameters: {}\".format(grid_search.best_params_))\n",
    "print(\"Best cross-validation score: {:.2f}\".format(grid_search.best_score_))\n",
    "print(\"Test set score: {:.2f}\".format(grid_search.score(X_test, y_test)))"
   ]
  },
  {
   "cell_type": "code",
   "execution_count": 19,
   "metadata": {},
   "outputs": [
    {
     "name": "stdout",
     "output_type": "stream",
     "text": [
      "for depth 3\n",
      "R2 on training set is 0.67\n",
      "R2 on test is 0.46\n"
     ]
    }
   ],
   "source": [
    "### fit that tree on the whole training set\n",
    "k=3\n",
    "tree = DecisionTreeRegressor(max_depth=k)\n",
    "tree.fit(X_train,y_train)\n",
    "R2_appr=tree.score(X_train,y_train)\n",
    "R2_test=tree.score(X_test,y_test)\n",
    "print('for depth',k)\n",
    "print(\"R2 on training set is {:.2f}\".format(R2_appr))\n",
    "print(\"R2 on test is {:.2f}\".format(R2_test))"
   ]
  },
  {
   "cell_type": "code",
   "execution_count": 20,
   "metadata": {},
   "outputs": [
    {
     "data": {
      "text/plain": [
       "<matplotlib.figure.Figure at 0x1f8e52cde10>"
      ]
     },
     "metadata": {},
     "output_type": "display_data"
    },
    {
     "data": {
      "image/png": "[encoded data removed]",
      "text/plain": [
       "<matplotlib.figure.Figure at 0x1f8e4dd8550>"
      ]
     },
     "metadata": {},
     "output_type": "display_data"
    }
   ],
   "source": [
    "# adapted from Muller & Guido \n",
    "# https://github.com/amueller/introduction_to_ml_with_python/blob/master/02-supervised-learning.ipynb\n",
    "\n",
    "def plot_feature_importances(model, Frame):\n",
    "    plt.clf()\n",
    "    n_features=len(Frame.columns)\n",
    "    plt.figure(figsize=(15,15))\n",
    "    plt.barh(range(n_features), model.feature_importances_, align='center')\n",
    "    plt.yticks(np.arange(n_features), Frame.columns)\n",
    "    plt.xlabel(\"Feature importance\")\n",
    "    plt.ylabel(\"Feature\")\n",
    "    plt.ylim(-1, n_features)\n",
    "\n",
    "\n",
    "plot_feature_importances(tree,X_train)\n",
    "plt.show()  "
   ]
  },
  {
   "cell_type": "markdown",
   "metadata": {},
   "source": [
    "### Let's try a more complex model : Random forest"
   ]
  },
  {
   "cell_type": "markdown",
   "metadata": {},
   "source": [
    "### with default parameters"
   ]
  },
  {
   "cell_type": "code",
   "execution_count": 21,
   "metadata": {},
   "outputs": [
    {
     "data": {
      "text/plain": [
       "RandomForestRegressor(bootstrap=True, criterion='mse', max_depth=None,\n",
       "           max_features='auto', max_leaf_nodes=None,\n",
       "           min_impurity_decrease=0.0, min_impurity_split=None,\n",
       "           min_samples_leaf=1, min_samples_split=2,\n",
       "           min_weight_fraction_leaf=0.0, n_estimators=10, n_jobs=1,\n",
       "           oob_score=False, random_state=None, verbose=0, warm_start=False)"
      ]
     },
     "execution_count": 21,
     "metadata": {},
     "output_type": "execute_result"
    }
   ],
   "source": [
    "from sklearn.ensemble import RandomForestRegressor\n",
    "rdf = RandomForestRegressor()\n",
    "np.set_printoptions(precision=3)\n",
    "rdf.fit(X_train,y_train)"
   ]
  },
  {
   "cell_type": "code",
   "execution_count": 22,
   "metadata": {},
   "outputs": [
    {
     "name": "stdout",
     "output_type": "stream",
     "text": [
      "R2 in sample 0.93\n",
      "R2 out of sample 0.64\n"
     ]
    }
   ],
   "source": [
    "print(\"R2 in sample {:.2f}\".format(rdf.score(X_train,y_train)))\n",
    "print(\"R2 out of sample {:.2f}\".format(rdf.score(X_test,y_test)))"
   ]
  },
  {
   "cell_type": "markdown",
   "metadata": {},
   "source": [
    "### It's more efficient than the single tree. Let's also try Gradient Boosting"
   ]
  },
  {
   "cell_type": "markdown",
   "metadata": {},
   "source": [
    "### with default parameters"
   ]
  },
  {
   "cell_type": "code",
   "execution_count": 23,
   "metadata": {},
   "outputs": [],
   "source": [
    "from sklearn.ensemble import GradientBoostingRegressor"
   ]
  },
  {
   "cell_type": "code",
   "execution_count": 24,
   "metadata": {},
   "outputs": [
    {
     "name": "stdout",
     "output_type": "stream",
     "text": [
      "le R2 in sample est de 0.93\n",
      "et le R2 out of sample est de 0.64\n"
     ]
    }
   ],
   "source": [
    "gbr = GradientBoostingRegressor()\n",
    "np.set_printoptions(precision=3)\n",
    "gbr.fit(X_train,y_train)\n",
    "print(\"le R2 in sample est de {:.2f}\".format(gbr.score(X_train,y_train)))\n",
    "print(\"et le R2 out of sample est de {:.2f}\".format(gbr.score(X_test,y_test)))"
   ]
  },
  {
   "cell_type": "markdown",
   "metadata": {},
   "source": [
    "### Quite good. Let's suppose we are not allowed to use those complex black box models. We will try to use the knowledge gained from those models to build a more efficient single tree. In order to achieve that, we will generate additionnal unlabeled data. We will then use the black box as a oracle to label those data, and train a tree on the new data. "
   ]
  },
  {
   "cell_type": "markdown",
   "metadata": {},
   "source": [
    "### First let's genereate additionnal (unlabeled) data, similar to the data from the training set. We wil draw randomly those points from a multivariate gaussian distribution estimated on the training set (we didn't perform test to verify that the initial data distribution is indeed more or less gaussian. If our approach fail then we will have a look at the actual training set to decide another distribution to use). "
   ]
  },
  {
   "cell_type": "code",
   "execution_count": 25,
   "metadata": {},
   "outputs": [],
   "source": [
    "# estimate mean and variance on the training set\n",
    "echmean=X_train.mean(axis=0)\n",
    "echcov= X_train.cov()"
   ]
  },
  {
   "cell_type": "code",
   "execution_count": 26,
   "metadata": {},
   "outputs": [
    {
     "name": "stderr",
     "output_type": "stream",
     "text": [
      "D:\\Users\\pc\\Anaconda3\\lib\\site-packages\\ipykernel_launcher.py:2: RuntimeWarning: covariance is not positive-semidefinite.\n",
      "  \n"
     ]
    }
   ],
   "source": [
    "# randomly draw points according to a multivariate distribution with such parameters\n",
    "X_virt= np.random.multivariate_normal(echmean, echcov, 10000)"
   ]
  },
  {
   "cell_type": "code",
   "execution_count": 27,
   "metadata": {},
   "outputs": [
    {
     "name": "stdout",
     "output_type": "stream",
     "text": [
      "(10000, 96)\n"
     ]
    }
   ],
   "source": [
    "print(X_virt.shape)"
   ]
  },
  {
   "cell_type": "code",
   "execution_count": 28,
   "metadata": {},
   "outputs": [
    {
     "data": {
      "text/html": [
       "<div>\n",
       "<style scoped>\n",
       "    .dataframe tbody tr th:only-of-type {\n",
       "        vertical-align: middle;\n",
       "    }\n",
       "\n",
       "    .dataframe tbody tr th {\n",
       "        vertical-align: top;\n",
       "    }\n",
       "\n",
       "    .dataframe thead th {\n",
       "        text-align: right;\n",
       "    }\n",
       "</style>\n",
       "<table border=\"1\" class=\"dataframe\">\n",
       "  <thead>\n",
       "    <tr style=\"text-align: right;\">\n",
       "      <th></th>\n",
       "      <th>population</th>\n",
       "      <th>householdsize</th>\n",
       "      <th>racepctblack</th>\n",
       "      <th>racePctWhite</th>\n",
       "      <th>racePctAsian</th>\n",
       "      <th>racePctHisp</th>\n",
       "      <th>agePct12t21</th>\n",
       "      <th>agePct12t29</th>\n",
       "      <th>agePct16t24</th>\n",
       "      <th>agePct65up</th>\n",
       "      <th>...</th>\n",
       "      <th>MedOwnCostPctInc</th>\n",
       "      <th>MedOwnCostPctIncNoMt</th>\n",
       "      <th>PctForeignBorn</th>\n",
       "      <th>PctBornSameState</th>\n",
       "      <th>PctSameHouse85</th>\n",
       "      <th>PctSameCity85</th>\n",
       "      <th>PctSameState85</th>\n",
       "      <th>LandArea</th>\n",
       "      <th>PopDens</th>\n",
       "      <th>PctUsePubTrans</th>\n",
       "    </tr>\n",
       "  </thead>\n",
       "  <tbody>\n",
       "    <tr>\n",
       "      <th>count</th>\n",
       "      <td>10000.000000</td>\n",
       "      <td>10000.000000</td>\n",
       "      <td>10000.000000</td>\n",
       "      <td>10000.000000</td>\n",
       "      <td>10000.000000</td>\n",
       "      <td>10000.000000</td>\n",
       "      <td>10000.000000</td>\n",
       "      <td>10000.000000</td>\n",
       "      <td>10000.000000</td>\n",
       "      <td>10000.000000</td>\n",
       "      <td>...</td>\n",
       "      <td>10000.000000</td>\n",
       "      <td>10000.000000</td>\n",
       "      <td>10000.000000</td>\n",
       "      <td>10000.000000</td>\n",
       "      <td>10000.000000</td>\n",
       "      <td>10000.000000</td>\n",
       "      <td>10000.000000</td>\n",
       "      <td>10000.000000</td>\n",
       "      <td>10000.000000</td>\n",
       "      <td>10000.000000</td>\n",
       "    </tr>\n",
       "    <tr>\n",
       "      <th>mean</th>\n",
       "      <td>65286.899801</td>\n",
       "      <td>2.705189</td>\n",
       "      <td>11.223482</td>\n",
       "      <td>80.959316</td>\n",
       "      <td>3.050037</td>\n",
       "      <td>9.234383</td>\n",
       "      <td>14.641870</td>\n",
       "      <td>28.508432</td>\n",
       "      <td>14.540260</td>\n",
       "      <td>11.603203</td>\n",
       "      <td>...</td>\n",
       "      <td>21.322055</td>\n",
       "      <td>13.062470</td>\n",
       "      <td>8.116525</td>\n",
       "      <td>59.659268</td>\n",
       "      <td>49.723849</td>\n",
       "      <td>76.368519</td>\n",
       "      <td>87.090700</td>\n",
       "      <td>38.492290</td>\n",
       "      <td>3016.312717</td>\n",
       "      <td>3.580865</td>\n",
       "    </tr>\n",
       "    <tr>\n",
       "      <th>std</th>\n",
       "      <td>122393.382986</td>\n",
       "      <td>0.350806</td>\n",
       "      <td>15.096912</td>\n",
       "      <td>17.401953</td>\n",
       "      <td>4.976185</td>\n",
       "      <td>15.114947</td>\n",
       "      <td>4.329211</td>\n",
       "      <td>6.052823</td>\n",
       "      <td>5.846105</td>\n",
       "      <td>4.674926</td>\n",
       "      <td>...</td>\n",
       "      <td>2.925560</td>\n",
       "      <td>1.471274</td>\n",
       "      <td>8.924360</td>\n",
       "      <td>16.470827</td>\n",
       "      <td>10.210405</td>\n",
       "      <td>10.627717</td>\n",
       "      <td>7.674620</td>\n",
       "      <td>149.324012</td>\n",
       "      <td>2925.891350</td>\n",
       "      <td>5.579010</td>\n",
       "    </tr>\n",
       "    <tr>\n",
       "      <th>min</th>\n",
       "      <td>-425469.713410</td>\n",
       "      <td>1.437954</td>\n",
       "      <td>-44.610353</td>\n",
       "      <td>12.250288</td>\n",
       "      <td>-20.117234</td>\n",
       "      <td>-44.837147</td>\n",
       "      <td>-5.926748</td>\n",
       "      <td>2.369296</td>\n",
       "      <td>-11.155950</td>\n",
       "      <td>-5.101991</td>\n",
       "      <td>...</td>\n",
       "      <td>11.061401</td>\n",
       "      <td>7.615556</td>\n",
       "      <td>-24.957658</td>\n",
       "      <td>-2.269292</td>\n",
       "      <td>8.444875</td>\n",
       "      <td>39.357428</td>\n",
       "      <td>60.114340</td>\n",
       "      <td>-510.136698</td>\n",
       "      <td>-6439.029030</td>\n",
       "      <td>-18.754101</td>\n",
       "    </tr>\n",
       "    <tr>\n",
       "      <th>25%</th>\n",
       "      <td>-15231.243243</td>\n",
       "      <td>2.469789</td>\n",
       "      <td>1.213672</td>\n",
       "      <td>69.224748</td>\n",
       "      <td>-0.363556</td>\n",
       "      <td>-0.977807</td>\n",
       "      <td>11.691286</td>\n",
       "      <td>24.453643</td>\n",
       "      <td>10.615882</td>\n",
       "      <td>8.492512</td>\n",
       "      <td>...</td>\n",
       "      <td>19.362592</td>\n",
       "      <td>12.053353</td>\n",
       "      <td>2.091160</td>\n",
       "      <td>48.416151</td>\n",
       "      <td>42.978870</td>\n",
       "      <td>69.123137</td>\n",
       "      <td>81.905457</td>\n",
       "      <td>-61.332256</td>\n",
       "      <td>1050.244447</td>\n",
       "      <td>-0.235367</td>\n",
       "    </tr>\n",
       "    <tr>\n",
       "      <th>50%</th>\n",
       "      <td>64829.469475</td>\n",
       "      <td>2.702402</td>\n",
       "      <td>11.200389</td>\n",
       "      <td>81.023803</td>\n",
       "      <td>3.108073</td>\n",
       "      <td>9.167715</td>\n",
       "      <td>14.613882</td>\n",
       "      <td>28.487128</td>\n",
       "      <td>14.527183</td>\n",
       "      <td>11.585231</td>\n",
       "      <td>...</td>\n",
       "      <td>21.310971</td>\n",
       "      <td>13.078070</td>\n",
       "      <td>8.070684</td>\n",
       "      <td>59.581449</td>\n",
       "      <td>49.791966</td>\n",
       "      <td>76.476972</td>\n",
       "      <td>87.061897</td>\n",
       "      <td>41.204221</td>\n",
       "      <td>2997.333403</td>\n",
       "      <td>3.509201</td>\n",
       "    </tr>\n",
       "    <tr>\n",
       "      <th>75%</th>\n",
       "      <td>146922.489843</td>\n",
       "      <td>2.941927</td>\n",
       "      <td>21.356410</td>\n",
       "      <td>92.700863</td>\n",
       "      <td>6.407310</td>\n",
       "      <td>19.318710</td>\n",
       "      <td>17.526209</td>\n",
       "      <td>32.593320</td>\n",
       "      <td>18.517278</td>\n",
       "      <td>14.758291</td>\n",
       "      <td>...</td>\n",
       "      <td>23.286651</td>\n",
       "      <td>14.059483</td>\n",
       "      <td>14.054191</td>\n",
       "      <td>70.727360</td>\n",
       "      <td>56.545558</td>\n",
       "      <td>83.465946</td>\n",
       "      <td>92.378882</td>\n",
       "      <td>138.374650</td>\n",
       "      <td>5001.855690</td>\n",
       "      <td>7.344698</td>\n",
       "    </tr>\n",
       "    <tr>\n",
       "      <th>max</th>\n",
       "      <td>503157.069234</td>\n",
       "      <td>3.988976</td>\n",
       "      <td>63.035459</td>\n",
       "      <td>146.251112</td>\n",
       "      <td>20.562509</td>\n",
       "      <td>65.169204</td>\n",
       "      <td>31.048973</td>\n",
       "      <td>50.841610</td>\n",
       "      <td>36.414556</td>\n",
       "      <td>30.635049</td>\n",
       "      <td>...</td>\n",
       "      <td>34.607061</td>\n",
       "      <td>18.796918</td>\n",
       "      <td>41.098765</td>\n",
       "      <td>117.096772</td>\n",
       "      <td>86.430539</td>\n",
       "      <td>119.331194</td>\n",
       "      <td>116.291601</td>\n",
       "      <td>579.717013</td>\n",
       "      <td>14437.615871</td>\n",
       "      <td>24.011038</td>\n",
       "    </tr>\n",
       "  </tbody>\n",
       "</table>\n",
       "<p>8 rows × 96 columns</p>\n",
       "</div>"
      ],
      "text/plain": [
       "          population  householdsize  racepctblack  racePctWhite  racePctAsian  \\\n",
       "count   10000.000000   10000.000000  10000.000000  10000.000000  10000.000000   \n",
       "mean    65286.899801       2.705189     11.223482     80.959316      3.050037   \n",
       "std    122393.382986       0.350806     15.096912     17.401953      4.976185   \n",
       "min   -425469.713410       1.437954    -44.610353     12.250288    -20.117234   \n",
       "25%    -15231.243243       2.469789      1.213672     69.224748     -0.363556   \n",
       "50%     64829.469475       2.702402     11.200389     81.023803      3.108073   \n",
       "75%    146922.489843       2.941927     21.356410     92.700863      6.407310   \n",
       "max    503157.069234       3.988976     63.035459    146.251112     20.562509   \n",
       "\n",
       "        racePctHisp   agePct12t21   agePct12t29   agePct16t24    agePct65up  \\\n",
       "count  10000.000000  10000.000000  10000.000000  10000.000000  10000.000000   \n",
       "mean       9.234383     14.641870     28.508432     14.540260     11.603203   \n",
       "std       15.114947      4.329211      6.052823      5.846105      4.674926   \n",
       "min      -44.837147     -5.926748      2.369296    -11.155950     -5.101991   \n",
       "25%       -0.977807     11.691286     24.453643     10.615882      8.492512   \n",
       "50%        9.167715     14.613882     28.487128     14.527183     11.585231   \n",
       "75%       19.318710     17.526209     32.593320     18.517278     14.758291   \n",
       "max       65.169204     31.048973     50.841610     36.414556     30.635049   \n",
       "\n",
       "            ...        MedOwnCostPctInc  MedOwnCostPctIncNoMt  PctForeignBorn  \\\n",
       "count       ...            10000.000000          10000.000000    10000.000000   \n",
       "mean        ...               21.322055             13.062470        8.116525   \n",
       "std         ...                2.925560              1.471274        8.924360   \n",
       "min         ...               11.061401              7.615556      -24.957658   \n",
       "25%         ...               19.362592             12.053353        2.091160   \n",
       "50%         ...               21.310971             13.078070        8.070684   \n",
       "75%         ...               23.286651             14.059483       14.054191   \n",
       "max         ...               34.607061             18.796918       41.098765   \n",
       "\n",
       "       PctBornSameState  PctSameHouse85  PctSameCity85  PctSameState85  \\\n",
       "count      10000.000000    10000.000000   10000.000000    10000.000000   \n",
       "mean          59.659268       49.723849      76.368519       87.090700   \n",
       "std           16.470827       10.210405      10.627717        7.674620   \n",
       "min           -2.269292        8.444875      39.357428       60.114340   \n",
       "25%           48.416151       42.978870      69.123137       81.905457   \n",
       "50%           59.581449       49.791966      76.476972       87.061897   \n",
       "75%           70.727360       56.545558      83.465946       92.378882   \n",
       "max          117.096772       86.430539     119.331194      116.291601   \n",
       "\n",
       "           LandArea       PopDens  PctUsePubTrans  \n",
       "count  10000.000000  10000.000000    10000.000000  \n",
       "mean      38.492290   3016.312717        3.580865  \n",
       "std      149.324012   2925.891350        5.579010  \n",
       "min     -510.136698  -6439.029030      -18.754101  \n",
       "25%      -61.332256   1050.244447       -0.235367  \n",
       "50%       41.204221   2997.333403        3.509201  \n",
       "75%      138.374650   5001.855690        7.344698  \n",
       "max      579.717013  14437.615871       24.011038  \n",
       "\n",
       "[8 rows x 96 columns]"
      ]
     },
     "execution_count": 28,
     "metadata": {},
     "output_type": "execute_result"
    }
   ],
   "source": [
    "d_virt=pd.DataFrame(X_virt, columns=X_train.columns)\n",
    "d_virt.describe()"
   ]
  },
  {
   "cell_type": "markdown",
   "metadata": {},
   "source": [
    "#### Label the new data using the Gradient Boosting as an oracle"
   ]
  },
  {
   "cell_type": "code",
   "execution_count": 29,
   "metadata": {},
   "outputs": [
    {
     "name": "stdout",
     "output_type": "stream",
     "text": [
      "[ 932.367 1340.127 1386.808 ... 1005.02   833.113 1255.215]\n"
     ]
    }
   ],
   "source": [
    "y_virt=gbr.predict(d_virt)\n",
    "print(y_virt)"
   ]
  },
  {
   "cell_type": "markdown",
   "metadata": {},
   "source": [
    "### Let's try to train a tree on these virtual data (we don't bother to add the original real training set since its much smaller than the virtual set)"
   ]
  },
  {
   "cell_type": "code",
   "execution_count": 32,
   "metadata": {
    "scrolled": true
   },
   "outputs": [
    {
     "name": "stdout",
     "output_type": "stream",
     "text": [
      "k= 3 average cross-validation score: 0.668\n",
      "k= 4 average cross-validation score: 0.732\n",
      "k= 5 average cross-validation score: 0.780\n",
      "k= 6 average cross-validation score: 0.809\n",
      "k= 7 average cross-validation score: 0.827\n",
      "k= 8 average cross-validation score: 0.832\n",
      "k= 9 average cross-validation score: 0.828\n",
      "k= 10 average cross-validation score: 0.821\n",
      "k= 11 average cross-validation score: 0.816\n"
     ]
    }
   ],
   "source": [
    "for i in range (3,12):\n",
    "    tree = DecisionTreeRegressor(max_depth=i,random_state=42)\n",
    "    score=cross_val_score(tree,d_virt,y_virt,cv=5).mean() \n",
    "    print(\"k=\",i,\"average cross-validation score: {:.3f}\".format(score))"
   ]
  },
  {
   "cell_type": "markdown",
   "metadata": {},
   "source": [
    "###  Is our new single tree a good predictor ? Let's check on the test set"
   ]
  },
  {
   "cell_type": "code",
   "execution_count": 33,
   "metadata": {},
   "outputs": [
    {
     "name": "stdout",
     "output_type": "stream",
     "text": [
      "for depth 8\n",
      "R2 on training set is 0.68\n",
      "R2 on test is 0.52\n"
     ]
    }
   ],
   "source": [
    "# optimum is at k=8\n",
    "k=8\n",
    "tree = DecisionTreeRegressor(max_depth=k)\n",
    "tree.fit(d_virt,y_virt)\n",
    "R2_appr=tree.score(X_train,y_train)\n",
    "R2_test=tree.score(X_test,y_test)\n",
    "print('for depth',k)\n",
    "print(\"R2 on training set is {:.2f}\".format(R2_appr))\n",
    "print(\"R2 on test is {:.2f}\".format(R2_test))"
   ]
  },
  {
   "cell_type": "markdown",
   "metadata": {},
   "source": [
    "### Yes it is ! The impromvement over the initial tree is quite significant : the R2 is halfway between the initial tree and the Gradient Boosting."
   ]
  },
  {
   "cell_type": "markdown",
   "metadata": {},
   "source": [
    "### Let's see if the method also function with the Random Forest"
   ]
  },
  {
   "cell_type": "code",
   "execution_count": 34,
   "metadata": {},
   "outputs": [],
   "source": [
    "z_virt=rdf.predict(d_virt)"
   ]
  },
  {
   "cell_type": "code",
   "execution_count": 35,
   "metadata": {},
   "outputs": [
    {
     "name": "stdout",
     "output_type": "stream",
     "text": [
      "k= 3 average cross-validation score: 0.788\n",
      "k= 4 average cross-validation score: 0.839\n",
      "k= 5 average cross-validation score: 0.860\n",
      "k= 6 average cross-validation score: 0.871\n",
      "k= 7 average cross-validation score: 0.875\n",
      "k= 8 average cross-validation score: 0.876\n",
      "k= 9 average cross-validation score: 0.869\n",
      "k= 10 average cross-validation score: 0.862\n",
      "k= 11 average cross-validation score: 0.852\n"
     ]
    }
   ],
   "source": [
    "for i in range (3,12):\n",
    "    tree1 = DecisionTreeRegressor(max_depth=i,random_state=42)\n",
    "    score=cross_val_score(tree1,d_virt,z_virt,cv=5).mean() \n",
    "    print(\"k=\",i,\"average cross-validation score: {:.3f}\".format(score))"
   ]
  },
  {
   "cell_type": "code",
   "execution_count": 36,
   "metadata": {},
   "outputs": [
    {
     "name": "stdout",
     "output_type": "stream",
     "text": [
      "pour une profondeur de 8\n",
      "le R2 sur l'échantillon d'apprentissage original est de 0.68\n",
      "et le R2 sur le vrai échantillon de test est de 0.54\n"
     ]
    }
   ],
   "source": [
    "# optimum is k=8\n",
    "k=8\n",
    "tree1 = DecisionTreeRegressor(max_depth=k)\n",
    "tree1.fit(d_virt,y_virt)\n",
    "R2_appr=tree1.score(X_train,y_train)\n",
    "R2_test=tree1.score(X_test,y_test)\n",
    "print('pour une profondeur de',k)\n",
    "print(\"le R2 sur l'échantillon d'apprentissage original est de {:.2f}\".format(R2_appr))\n",
    "print(\"et le R2 sur le vrai échantillon de test est de {:.2f}\".format(R2_test))"
   ]
  },
  {
   "cell_type": "markdown",
   "metadata": {},
   "source": [
    "### Very good also !"
   ]
  },
  {
   "cell_type": "markdown",
   "metadata": {},
   "source": [
    "## For illustration purpose, let's reapply the same method with a dimensionality reduction through Principal Component Analysis (PCA). That's not realy useful here as results are already quite good, put it may be in other cases of high dimensionality. "
   ]
  },
  {
   "cell_type": "code",
   "execution_count": 37,
   "metadata": {},
   "outputs": [],
   "source": [
    "# first normalise the data\n",
    "from sklearn.preprocessing import StandardScaler\n",
    "scaler=StandardScaler()\n",
    "X_s=scaler.fit_transform(X_train)\n",
    "d_train = pd.DataFrame(X_s, columns=X_train.columns)\n",
    "X_ts=scaler.transform(X_test)\n",
    "d_test = pd.DataFrame(X_ts, columns=X_test.columns)"
   ]
  },
  {
   "cell_type": "code",
   "execution_count": 38,
   "metadata": {},
   "outputs": [
    {
     "name": "stdout",
     "output_type": "stream",
     "text": [
      "R2 in sample 0.93\n",
      "R2 out of sample 0.64\n"
     ]
    }
   ],
   "source": [
    "#retrain black box models on those scaled data\n",
    "gbr = GradientBoostingRegressor()\n",
    "gbr.fit(d_train,y_train)\n",
    "print(\"R2 in sample {:.2f}\".format(gbr.score(d_train,y_train)))\n",
    "print(\"R2 out of sample {:.2f}\".format(gbr.score(d_test,y_test)))"
   ]
  },
  {
   "cell_type": "code",
   "execution_count": 39,
   "metadata": {},
   "outputs": [
    {
     "name": "stdout",
     "output_type": "stream",
     "text": [
      "R2 in sample 0.92\n",
      "R2 out of sample 0.58\n"
     ]
    }
   ],
   "source": [
    "rdf = RandomForestRegressor()\n",
    "np.set_printoptions(precision=3)\n",
    "rdf.fit(d_train,y_train)\n",
    "print(\"R2 in sample {:.2f}\".format(rdf.score(d_train,y_train)))\n",
    "print(\"R2 out of sample {:.2f}\".format(rdf.score(d_test,y_test)))"
   ]
  },
  {
   "cell_type": "code",
   "execution_count": 40,
   "metadata": {},
   "outputs": [],
   "source": [
    "#compute PCA\n",
    "from sklearn.decomposition import PCA\n",
    "pca=PCA().fit(d_train)"
   ]
  },
  {
   "cell_type": "code",
   "execution_count": 41,
   "metadata": {},
   "outputs": [
    {
     "data": {
      "text/plain": [
       "Text(0.5,1,'Variance explanation')"
      ]
     },
     "execution_count": 41,
     "metadata": {},
     "output_type": "execute_result"
    },
    {
     "data": {
      "image/png": "[encoded data removed]",
      "text/plain": [
       "<matplotlib.figure.Figure at 0x1f8e5342c50>"
      ]
     },
     "metadata": {},
     "output_type": "display_data"
    }
   ],
   "source": [
    "#look at explained variance\n",
    "plt.close\n",
    "expl=pca.explained_variance_ratio_\n",
    "plt.figure(figsize=(15,5))\n",
    "plt.plot(expl,label='variance explained by axe (%)')\n",
    "plt.grid(True)\n",
    "plt.title('Variance explanation')"
   ]
  },
  {
   "cell_type": "code",
   "execution_count": 42,
   "metadata": {},
   "outputs": [
    {
     "data": {
      "text/plain": [
       "Text(0,0.5,'Cumulative % of explained variance')"
      ]
     },
     "execution_count": 42,
     "metadata": {},
     "output_type": "execute_result"
    },
    {
     "data": {
      "image/png": "[encoded data removed]",
      "text/plain": [
       "<matplotlib.figure.Figure at 0x1f8e5359eb8>"
      ]
     },
     "metadata": {},
     "output_type": "display_data"
    }
   ],
   "source": [
    "#on a cumulative basis\n",
    "plt.close\n",
    "expl1=expl\n",
    "plt.figure(figsize=(15,5))\n",
    "for i in range(1,len(expl1)):\n",
    "        expl1[i]+=expl1[i-1]\n",
    "plt.plot(expl1,'r--',label='sum of explained variance (%)')\n",
    "plt.grid(True)\n",
    "plt.legend(loc='upper left')\n",
    "plt.xlabel('PCA axis') \n",
    "plt.ylabel('Cumulative % of explained variance') \n"
   ]
  },
  {
   "cell_type": "code",
   "execution_count": 43,
   "metadata": {},
   "outputs": [
    {
     "name": "stdout",
     "output_type": "stream",
     "text": [
      "[0.243 0.418 0.508 0.593 0.641 0.683 0.717 0.746 0.769 0.786 0.803 0.819\n",
      " 0.832 0.843 0.854 0.864 0.873 0.881 0.889 0.896 0.902 0.908 0.914 0.919\n",
      " 0.924 0.929 0.933 0.937 0.941 0.945 0.949 0.952 0.955 0.958 0.961 0.963\n",
      " 0.966 0.968 0.971 0.973 0.975 0.977 0.978 0.98  0.981 0.983 0.984 0.985\n",
      " 0.986 0.987 0.988 0.989 0.99  0.991 0.992 0.992 0.993 0.993 0.994 0.994\n",
      " 0.995 0.995 0.996 0.996 0.996 0.997 0.997 0.997 0.998 0.998 0.998 0.998\n",
      " 0.998 0.999 0.999 0.999 0.999 0.999 0.999 0.999 1.    1.    1.    1.\n",
      " 1.    1.    1.    1.    1.    1.    1.    1.    1.    1.    1.    1.   ]\n"
     ]
    }
   ],
   "source": [
    "print(pca.explained_variance_ratio_)"
   ]
  },
  {
   "cell_type": "markdown",
   "metadata": {},
   "source": [
    "### 32 axis explain more than 95% of the data variance, of which 21 more than 90% and 11 more than 80%. Let's reduce dimensionality to 32"
   ]
  },
  {
   "cell_type": "markdown",
   "metadata": {},
   "source": [
    "#### Let's randomly draw points in the reduced 32 dimension space of the 32 first PCA axis rather than in the original 97-dimension feature space. Remark that as PCA axis are orthogonals, we can suppose the distribution of points in that subspace to be of covariances zeros. "
   ]
  },
  {
   "cell_type": "code",
   "execution_count": 44,
   "metadata": {},
   "outputs": [],
   "source": [
    "##### First refit the data on a 32 dimension PCA\n",
    "pca1=PCA(n_components=32).fit(d_train)"
   ]
  },
  {
   "cell_type": "code",
   "execution_count": 45,
   "metadata": {},
   "outputs": [
    {
     "data": {
      "text/html": [
       "<div>\n",
       "<style scoped>\n",
       "    .dataframe tbody tr th:only-of-type {\n",
       "        vertical-align: middle;\n",
       "    }\n",
       "\n",
       "    .dataframe tbody tr th {\n",
       "        vertical-align: top;\n",
       "    }\n",
       "\n",
       "    .dataframe thead th {\n",
       "        text-align: right;\n",
       "    }\n",
       "</style>\n",
       "<table border=\"1\" class=\"dataframe\">\n",
       "  <thead>\n",
       "    <tr style=\"text-align: right;\">\n",
       "      <th></th>\n",
       "      <th>0</th>\n",
       "      <th>1</th>\n",
       "      <th>2</th>\n",
       "      <th>3</th>\n",
       "      <th>4</th>\n",
       "      <th>5</th>\n",
       "      <th>6</th>\n",
       "      <th>7</th>\n",
       "      <th>8</th>\n",
       "      <th>9</th>\n",
       "      <th>...</th>\n",
       "      <th>22</th>\n",
       "      <th>23</th>\n",
       "      <th>24</th>\n",
       "      <th>25</th>\n",
       "      <th>26</th>\n",
       "      <th>27</th>\n",
       "      <th>28</th>\n",
       "      <th>29</th>\n",
       "      <th>30</th>\n",
       "      <th>31</th>\n",
       "    </tr>\n",
       "  </thead>\n",
       "  <tbody>\n",
       "    <tr>\n",
       "      <th>count</th>\n",
       "      <td>7.870000e+02</td>\n",
       "      <td>7.870000e+02</td>\n",
       "      <td>7.870000e+02</td>\n",
       "      <td>7.870000e+02</td>\n",
       "      <td>7.870000e+02</td>\n",
       "      <td>7.870000e+02</td>\n",
       "      <td>7.870000e+02</td>\n",
       "      <td>7.870000e+02</td>\n",
       "      <td>7.870000e+02</td>\n",
       "      <td>7.870000e+02</td>\n",
       "      <td>...</td>\n",
       "      <td>7.870000e+02</td>\n",
       "      <td>7.870000e+02</td>\n",
       "      <td>7.870000e+02</td>\n",
       "      <td>7.870000e+02</td>\n",
       "      <td>7.870000e+02</td>\n",
       "      <td>7.870000e+02</td>\n",
       "      <td>7.870000e+02</td>\n",
       "      <td>7.870000e+02</td>\n",
       "      <td>7.870000e+02</td>\n",
       "      <td>7.870000e+02</td>\n",
       "    </tr>\n",
       "    <tr>\n",
       "      <th>mean</th>\n",
       "      <td>-3.103546e-18</td>\n",
       "      <td>-1.520738e-16</td>\n",
       "      <td>-9.874919e-17</td>\n",
       "      <td>4.739961e-17</td>\n",
       "      <td>1.235776e-16</td>\n",
       "      <td>-3.949968e-18</td>\n",
       "      <td>4.955093e-17</td>\n",
       "      <td>-1.869181e-17</td>\n",
       "      <td>4.542463e-17</td>\n",
       "      <td>9.099032e-18</td>\n",
       "      <td>...</td>\n",
       "      <td>-1.784539e-17</td>\n",
       "      <td>2.271231e-17</td>\n",
       "      <td>6.348162e-18</td>\n",
       "      <td>-3.209349e-18</td>\n",
       "      <td>-2.172482e-17</td>\n",
       "      <td>-1.721057e-17</td>\n",
       "      <td>3.498543e-17</td>\n",
       "      <td>8.323146e-18</td>\n",
       "      <td>-2.835512e-17</td>\n",
       "      <td>-2.680335e-18</td>\n",
       "    </tr>\n",
       "    <tr>\n",
       "      <th>std</th>\n",
       "      <td>4.829543e+00</td>\n",
       "      <td>4.108171e+00</td>\n",
       "      <td>2.930534e+00</td>\n",
       "      <td>2.872220e+00</td>\n",
       "      <td>2.132531e+00</td>\n",
       "      <td>2.020858e+00</td>\n",
       "      <td>1.796245e+00</td>\n",
       "      <td>1.662857e+00</td>\n",
       "      <td>1.492792e+00</td>\n",
       "      <td>1.304541e+00</td>\n",
       "      <td>...</td>\n",
       "      <td>7.399259e-01</td>\n",
       "      <td>7.180403e-01</td>\n",
       "      <td>6.685861e-01</td>\n",
       "      <td>6.596201e-01</td>\n",
       "      <td>6.512418e-01</td>\n",
       "      <td>6.311170e-01</td>\n",
       "      <td>6.137633e-01</td>\n",
       "      <td>6.025491e-01</td>\n",
       "      <td>5.924987e-01</td>\n",
       "      <td>5.705488e-01</td>\n",
       "    </tr>\n",
       "    <tr>\n",
       "      <th>min</th>\n",
       "      <td>-1.172739e+01</td>\n",
       "      <td>-6.837900e+00</td>\n",
       "      <td>-1.078367e+01</td>\n",
       "      <td>-9.851146e+00</td>\n",
       "      <td>-6.566511e+00</td>\n",
       "      <td>-5.630097e+00</td>\n",
       "      <td>-5.534597e+00</td>\n",
       "      <td>-5.377272e+00</td>\n",
       "      <td>-5.847839e+00</td>\n",
       "      <td>-4.220820e+00</td>\n",
       "      <td>...</td>\n",
       "      <td>-2.402373e+00</td>\n",
       "      <td>-2.794165e+00</td>\n",
       "      <td>-3.312178e+00</td>\n",
       "      <td>-2.876298e+00</td>\n",
       "      <td>-2.603783e+00</td>\n",
       "      <td>-2.997684e+00</td>\n",
       "      <td>-3.121349e+00</td>\n",
       "      <td>-2.071898e+00</td>\n",
       "      <td>-2.554884e+00</td>\n",
       "      <td>-2.658365e+00</td>\n",
       "    </tr>\n",
       "    <tr>\n",
       "      <th>25%</th>\n",
       "      <td>-3.383874e+00</td>\n",
       "      <td>-2.715486e+00</td>\n",
       "      <td>-1.866924e+00</td>\n",
       "      <td>-1.761198e+00</td>\n",
       "      <td>-1.407257e+00</td>\n",
       "      <td>-1.132063e+00</td>\n",
       "      <td>-1.084095e+00</td>\n",
       "      <td>-9.851366e-01</td>\n",
       "      <td>-8.612362e-01</td>\n",
       "      <td>-7.653992e-01</td>\n",
       "      <td>...</td>\n",
       "      <td>-4.347720e-01</td>\n",
       "      <td>-4.416907e-01</td>\n",
       "      <td>-3.712569e-01</td>\n",
       "      <td>-3.911435e-01</td>\n",
       "      <td>-3.575647e-01</td>\n",
       "      <td>-3.298733e-01</td>\n",
       "      <td>-3.299239e-01</td>\n",
       "      <td>-3.798457e-01</td>\n",
       "      <td>-3.687825e-01</td>\n",
       "      <td>-3.218174e-01</td>\n",
       "    </tr>\n",
       "    <tr>\n",
       "      <th>50%</th>\n",
       "      <td>-4.479176e-01</td>\n",
       "      <td>-1.068160e+00</td>\n",
       "      <td>-3.167401e-01</td>\n",
       "      <td>-1.435353e-01</td>\n",
       "      <td>-1.410793e-01</td>\n",
       "      <td>-1.346770e-01</td>\n",
       "      <td>-2.398832e-01</td>\n",
       "      <td>7.383530e-02</td>\n",
       "      <td>1.344746e-01</td>\n",
       "      <td>3.380179e-03</td>\n",
       "      <td>...</td>\n",
       "      <td>-4.786793e-02</td>\n",
       "      <td>-2.381192e-04</td>\n",
       "      <td>1.593879e-02</td>\n",
       "      <td>2.979886e-02</td>\n",
       "      <td>7.253283e-03</td>\n",
       "      <td>7.971905e-03</td>\n",
       "      <td>-2.473815e-02</td>\n",
       "      <td>-2.223623e-02</td>\n",
       "      <td>-2.856173e-02</td>\n",
       "      <td>-5.425368e-03</td>\n",
       "    </tr>\n",
       "    <tr>\n",
       "      <th>75%</th>\n",
       "      <td>2.922497e+00</td>\n",
       "      <td>1.438362e+00</td>\n",
       "      <td>1.777577e+00</td>\n",
       "      <td>1.487608e+00</td>\n",
       "      <td>1.295964e+00</td>\n",
       "      <td>9.472657e-01</td>\n",
       "      <td>9.222823e-01</td>\n",
       "      <td>8.966434e-01</td>\n",
       "      <td>1.044506e+00</td>\n",
       "      <td>7.206377e-01</td>\n",
       "      <td>...</td>\n",
       "      <td>3.597513e-01</td>\n",
       "      <td>4.312644e-01</td>\n",
       "      <td>3.870709e-01</td>\n",
       "      <td>3.831452e-01</td>\n",
       "      <td>3.813801e-01</td>\n",
       "      <td>3.548276e-01</td>\n",
       "      <td>3.492704e-01</td>\n",
       "      <td>3.493962e-01</td>\n",
       "      <td>3.476077e-01</td>\n",
       "      <td>3.210287e-01</td>\n",
       "    </tr>\n",
       "    <tr>\n",
       "      <th>max</th>\n",
       "      <td>1.634011e+01</td>\n",
       "      <td>2.379005e+01</td>\n",
       "      <td>1.094350e+01</td>\n",
       "      <td>1.651907e+01</td>\n",
       "      <td>8.795216e+00</td>\n",
       "      <td>1.962408e+01</td>\n",
       "      <td>1.061145e+01</td>\n",
       "      <td>1.166825e+01</td>\n",
       "      <td>6.450313e+00</td>\n",
       "      <td>7.003779e+00</td>\n",
       "      <td>...</td>\n",
       "      <td>6.403984e+00</td>\n",
       "      <td>2.804411e+00</td>\n",
       "      <td>3.746512e+00</td>\n",
       "      <td>4.084696e+00</td>\n",
       "      <td>3.212669e+00</td>\n",
       "      <td>3.806609e+00</td>\n",
       "      <td>4.284545e+00</td>\n",
       "      <td>2.114495e+00</td>\n",
       "      <td>2.704054e+00</td>\n",
       "      <td>3.217550e+00</td>\n",
       "    </tr>\n",
       "  </tbody>\n",
       "</table>\n",
       "<p>8 rows × 32 columns</p>\n",
       "</div>"
      ],
      "text/plain": [
       "                 0             1             2             3             4   \\\n",
       "count  7.870000e+02  7.870000e+02  7.870000e+02  7.870000e+02  7.870000e+02   \n",
       "mean  -3.103546e-18 -1.520738e-16 -9.874919e-17  4.739961e-17  1.235776e-16   \n",
       "std    4.829543e+00  4.108171e+00  2.930534e+00  2.872220e+00  2.132531e+00   \n",
       "min   -1.172739e+01 -6.837900e+00 -1.078367e+01 -9.851146e+00 -6.566511e+00   \n",
       "25%   -3.383874e+00 -2.715486e+00 -1.866924e+00 -1.761198e+00 -1.407257e+00   \n",
       "50%   -4.479176e-01 -1.068160e+00 -3.167401e-01 -1.435353e-01 -1.410793e-01   \n",
       "75%    2.922497e+00  1.438362e+00  1.777577e+00  1.487608e+00  1.295964e+00   \n",
       "max    1.634011e+01  2.379005e+01  1.094350e+01  1.651907e+01  8.795216e+00   \n",
       "\n",
       "                 5             6             7             8             9   \\\n",
       "count  7.870000e+02  7.870000e+02  7.870000e+02  7.870000e+02  7.870000e+02   \n",
       "mean  -3.949968e-18  4.955093e-17 -1.869181e-17  4.542463e-17  9.099032e-18   \n",
       "std    2.020858e+00  1.796245e+00  1.662857e+00  1.492792e+00  1.304541e+00   \n",
       "min   -5.630097e+00 -5.534597e+00 -5.377272e+00 -5.847839e+00 -4.220820e+00   \n",
       "25%   -1.132063e+00 -1.084095e+00 -9.851366e-01 -8.612362e-01 -7.653992e-01   \n",
       "50%   -1.346770e-01 -2.398832e-01  7.383530e-02  1.344746e-01  3.380179e-03   \n",
       "75%    9.472657e-01  9.222823e-01  8.966434e-01  1.044506e+00  7.206377e-01   \n",
       "max    1.962408e+01  1.061145e+01  1.166825e+01  6.450313e+00  7.003779e+00   \n",
       "\n",
       "           ...                 22            23            24            25  \\\n",
       "count      ...       7.870000e+02  7.870000e+02  7.870000e+02  7.870000e+02   \n",
       "mean       ...      -1.784539e-17  2.271231e-17  6.348162e-18 -3.209349e-18   \n",
       "std        ...       7.399259e-01  7.180403e-01  6.685861e-01  6.596201e-01   \n",
       "min        ...      -2.402373e+00 -2.794165e+00 -3.312178e+00 -2.876298e+00   \n",
       "25%        ...      -4.347720e-01 -4.416907e-01 -3.712569e-01 -3.911435e-01   \n",
       "50%        ...      -4.786793e-02 -2.381192e-04  1.593879e-02  2.979886e-02   \n",
       "75%        ...       3.597513e-01  4.312644e-01  3.870709e-01  3.831452e-01   \n",
       "max        ...       6.403984e+00  2.804411e+00  3.746512e+00  4.084696e+00   \n",
       "\n",
       "                 26            27            28            29            30  \\\n",
       "count  7.870000e+02  7.870000e+02  7.870000e+02  7.870000e+02  7.870000e+02   \n",
       "mean  -2.172482e-17 -1.721057e-17  3.498543e-17  8.323146e-18 -2.835512e-17   \n",
       "std    6.512418e-01  6.311170e-01  6.137633e-01  6.025491e-01  5.924987e-01   \n",
       "min   -2.603783e+00 -2.997684e+00 -3.121349e+00 -2.071898e+00 -2.554884e+00   \n",
       "25%   -3.575647e-01 -3.298733e-01 -3.299239e-01 -3.798457e-01 -3.687825e-01   \n",
       "50%    7.253283e-03  7.971905e-03 -2.473815e-02 -2.223623e-02 -2.856173e-02   \n",
       "75%    3.813801e-01  3.548276e-01  3.492704e-01  3.493962e-01  3.476077e-01   \n",
       "max    3.212669e+00  3.806609e+00  4.284545e+00  2.114495e+00  2.704054e+00   \n",
       "\n",
       "                 31  \n",
       "count  7.870000e+02  \n",
       "mean  -2.680335e-18  \n",
       "std    5.705488e-01  \n",
       "min   -2.658365e+00  \n",
       "25%   -3.218174e-01  \n",
       "50%   -5.425368e-03  \n",
       "75%    3.210287e-01  \n",
       "max    3.217550e+00  \n",
       "\n",
       "[8 rows x 32 columns]"
      ]
     },
     "execution_count": 45,
     "metadata": {},
     "output_type": "execute_result"
    }
   ],
   "source": [
    "#project points in that subspace\n",
    "d_train_pca1=pca1.transform(d_train)\n",
    "d_pca1 = pd.DataFrame(d_train_pca1)\n",
    "d_pca1.describe()"
   ]
  },
  {
   "cell_type": "code",
   "execution_count": 46,
   "metadata": {},
   "outputs": [
    {
     "name": "stdout",
     "output_type": "stream",
     "text": [
      "[[ 2.332e+01  0.000e+00  0.000e+00 ... -4.403e-12  3.371e-13  5.555e-12]\n",
      " [ 0.000e+00  1.688e+01  0.000e+00 ... -8.933e-12  2.006e-11  3.951e-11]\n",
      " [ 0.000e+00  0.000e+00  8.588e+00 ... -2.546e-10  1.793e-10  7.931e-10]\n",
      " ...\n",
      " [-4.403e-12 -8.933e-12 -2.546e-10 ...  3.631e-01 -2.824e-05 -6.527e-05]\n",
      " [ 3.371e-13  2.006e-11  1.793e-10 ... -2.824e-05  3.511e-01  2.592e-04]\n",
      " [ 5.555e-12  3.951e-11  7.931e-10 ... -6.527e-05  2.592e-04  3.255e-01]]\n"
     ]
    }
   ],
   "source": [
    "#draw randomly points in the subspace, (covariance being zero, mean and variance being estimated on the (projected) dataset\n",
    "echmean=d_pca1.mean(axis=0)\n",
    "echmean[:]=0\n",
    "echcov= d_pca1.cov()\n",
    "echcov=echcov.values\n",
    "for i in range(16):\n",
    "    for j in range(16):\n",
    "        if j!=i:\n",
    "            echcov[i,j]=0\n",
    "print(echcov)"
   ]
  },
  {
   "cell_type": "code",
   "execution_count": 47,
   "metadata": {},
   "outputs": [],
   "source": [
    "nombre=10000\n",
    "X_virt= np.random.multivariate_normal(echmean, echcov, nombre, check_valid ='warn')"
   ]
  },
  {
   "cell_type": "code",
   "execution_count": 48,
   "metadata": {},
   "outputs": [],
   "source": [
    "#transform back the generated points in the whole original 97-dimension feature space\n",
    "d_virt=pca1.inverse_transform(X_virt)"
   ]
  },
  {
   "cell_type": "code",
   "execution_count": 49,
   "metadata": {},
   "outputs": [],
   "source": [
    "# ask the black box oracle (gradient boosting) for data labels\n",
    "y_virt=gbr.predict(d_virt)"
   ]
  },
  {
   "cell_type": "code",
   "execution_count": 50,
   "metadata": {},
   "outputs": [
    {
     "name": "stdout",
     "output_type": "stream",
     "text": [
      "k= 6 average cross-validation score: 0.830\n",
      "k= 7 average cross-validation score: 0.852\n",
      "k= 8 average cross-validation score: 0.858\n",
      "k= 9 average cross-validation score: 0.856\n",
      "k= 10 average cross-validation score: 0.853\n",
      "k= 11 average cross-validation score: 0.846\n",
      "k= 12 average cross-validation score: 0.842\n"
     ]
    }
   ],
   "source": [
    "#train a simple tree on those virtual data\n",
    "for i in range (6,13):\n",
    "    tree = DecisionTreeRegressor(max_depth=i,random_state=42)\n",
    "    score=cross_val_score(tree,d_virt,y_virt,cv=5).mean() \n",
    "    print(\"k=\",i,\"average cross-validation score: {:.3f}\".format(score))"
   ]
  },
  {
   "cell_type": "code",
   "execution_count": 52,
   "metadata": {},
   "outputs": [
    {
     "name": "stdout",
     "output_type": "stream",
     "text": [
      "for depth 8\n",
      "R2 on original training set is 0.67\n",
      "R2 on original test set is 0.53\n"
     ]
    }
   ],
   "source": [
    "#see if the optimal tree is a good predictor of test (and train) sets\n",
    "k=8\n",
    "tree = DecisionTreeRegressor(max_depth=k)\n",
    "tree.fit(d_virt,y_virt)\n",
    "R2_appr=tree.score(d_train,y_train)\n",
    "R2_test=tree.score(d_test,y_test)\n",
    "print('for depth',k)\n",
    "print(\"R2 on original training set is {:.2f}\".format(R2_appr))\n",
    "print(\"R2 on original test set is {:.2f}\".format(R2_test))"
   ]
  },
  {
   "cell_type": "markdown",
   "metadata": {},
   "source": [
    "#### Slightly better than without ACP"
   ]
  },
  {
   "cell_type": "code",
   "execution_count": 53,
   "metadata": {},
   "outputs": [
    {
     "name": "stdout",
     "output_type": "stream",
     "text": [
      "k= 6 average cross-validation score: 0.874\n",
      "k= 7 average cross-validation score: 0.878\n",
      "k= 8 average cross-validation score: 0.878\n",
      "k= 9 average cross-validation score: 0.872\n",
      "k= 10 average cross-validation score: 0.865\n",
      "k= 11 average cross-validation score: 0.856\n",
      "k= 12 average cross-validation score: 0.850\n"
     ]
    }
   ],
   "source": [
    "#### same process with Random Forest\n",
    "# ask the black box oracle (random forest) for data labels\n",
    "z_virt=rdf.predict(d_virt)\n",
    "#train a simple tree on those virtual data\n",
    "for i in range (6,13):\n",
    "    tree = DecisionTreeRegressor(max_depth=i,random_state=42)\n",
    "    score=cross_val_score(tree,d_virt,z_virt,cv=5).mean() \n",
    "    print(\"k=\",i,\"average cross-validation score: {:.3f}\".format(score))"
   ]
  },
  {
   "cell_type": "code",
   "execution_count": 54,
   "metadata": {},
   "outputs": [
    {
     "name": "stdout",
     "output_type": "stream",
     "text": [
      "pour une profondeur de 7\n",
      "le R2 sur l'échantillon d'apprentissage original est de 0.64\n",
      "et le R2 sur le vrai échantillon de test est de 0.60\n"
     ]
    }
   ],
   "source": [
    "#see if the optimal tree is a good predictor of test (and train) sets\n",
    "k=7\n",
    "tree = DecisionTreeRegressor(max_depth=k)\n",
    "tree.fit(d_virt,z_virt)\n",
    "R2_appr=tree.score(d_train,y_train)\n",
    "R2_test=tree.score(d_test,y_test)\n",
    "print('pour une profondeur de',k)\n",
    "print(\"le R2 sur l'échantillon d'apprentissage original est de {:.2f}\".format(R2_appr))\n",
    "print(\"et le R2 sur le vrai échantillon de test est de {:.2f}\".format(R2_test))"
   ]
  },
  {
   "cell_type": "markdown",
   "metadata": {},
   "source": [
    "####  Quite better than without PCA"
   ]
  },
  {
   "cell_type": "code",
   "execution_count": null,
   "metadata": {},
   "outputs": [],
   "source": []
  }
 ],
 "metadata": {
  "kernelspec": {
   "display_name": "Python 3",
   "language": "python",
   "name": "python3"
  },
  "language_info": {
   "codemirror_mode": {
    "name": "ipython",
    "version": 3
   },
   "file_extension": ".py",
   "mimetype": "text/x-python",
   "name": "python",
   "nbconvert_exporter": "python",
   "pygments_lexer": "ipython3",
   "version": "3.6.4"
  }
 },
 "nbformat": 4,
 "nbformat_minor": 2
}
