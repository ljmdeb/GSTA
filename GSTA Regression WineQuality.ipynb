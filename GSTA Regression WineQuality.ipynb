{
 "cells": [
  {
   "cell_type": "code",
   "execution_count": 35,
   "metadata": {},
   "outputs": [],
   "source": [
    "#Replacing a Black-box model by a Global Single Tree Approximation\n",
    "#A regression case\n",
    "#Laurent Deborde 2019 march 23th"
   ]
  },
  {
   "cell_type": "code",
   "execution_count": 36,
   "metadata": {},
   "outputs": [],
   "source": [
    "#here we ll try the global single tree approximation approach in a regression case"
   ]
  },
  {
   "cell_type": "code",
   "execution_count": 37,
   "metadata": {},
   "outputs": [],
   "source": [
    "import numpy as np\n",
    "import pandas as pd\n",
    "import seaborn as sns\n",
    "import matplotlib.pyplot as plt\n",
    "from sklearn.model_selection import cross_val_score\n",
    "import random as rd"
   ]
  },
  {
   "cell_type": "code",
   "execution_count": 38,
   "metadata": {},
   "outputs": [],
   "source": [
    "#let's load the dataset (slightly modified to include the variables names as columns names in a single file)\n",
    "d=pd.read_csv('winequality-white.csv', sep=';')"
   ]
  },
  {
   "cell_type": "code",
   "execution_count": 39,
   "metadata": {
    "scrolled": true
   },
   "outputs": [
    {
     "name": "stdout",
     "output_type": "stream",
     "text": [
      "<class 'pandas.core.frame.DataFrame'>\n",
      "RangeIndex: 4898 entries, 0 to 4897\n",
      "Data columns (total 12 columns):\n",
      "fixed acidity           4898 non-null float64\n",
      "volatile acidity        4898 non-null float64\n",
      "citric acid             4898 non-null float64\n",
      "residual sugar          4898 non-null float64\n",
      "chlorides               4898 non-null float64\n",
      "free sulfur dioxide     4898 non-null float64\n",
      "total sulfur dioxide    4898 non-null float64\n",
      "density                 4898 non-null float64\n",
      "pH                      4898 non-null float64\n",
      "sulphates               4898 non-null float64\n",
      "alcohol                 4898 non-null float64\n",
      "quality                 4898 non-null int64\n",
      "dtypes: float64(11), int64(1)\n",
      "memory usage: 459.3 KB\n"
     ]
    }
   ],
   "source": [
    "d.info()"
   ]
  },
  {
   "cell_type": "code",
   "execution_count": 40,
   "metadata": {},
   "outputs": [
    {
     "data": {
      "text/html": [
       "<div>\n",
       "<style scoped>\n",
       "    .dataframe tbody tr th:only-of-type {\n",
       "        vertical-align: middle;\n",
       "    }\n",
       "\n",
       "    .dataframe tbody tr th {\n",
       "        vertical-align: top;\n",
       "    }\n",
       "\n",
       "    .dataframe thead th {\n",
       "        text-align: right;\n",
       "    }\n",
       "</style>\n",
       "<table border=\"1\" class=\"dataframe\">\n",
       "  <thead>\n",
       "    <tr style=\"text-align: right;\">\n",
       "      <th></th>\n",
       "      <th>fixed acidity</th>\n",
       "      <th>volatile acidity</th>\n",
       "      <th>citric acid</th>\n",
       "      <th>residual sugar</th>\n",
       "      <th>chlorides</th>\n",
       "      <th>free sulfur dioxide</th>\n",
       "      <th>total sulfur dioxide</th>\n",
       "      <th>density</th>\n",
       "      <th>pH</th>\n",
       "      <th>sulphates</th>\n",
       "      <th>alcohol</th>\n",
       "      <th>quality</th>\n",
       "    </tr>\n",
       "  </thead>\n",
       "  <tbody>\n",
       "    <tr>\n",
       "      <th>count</th>\n",
       "      <td>4898.000000</td>\n",
       "      <td>4898.000000</td>\n",
       "      <td>4898.000000</td>\n",
       "      <td>4898.000000</td>\n",
       "      <td>4898.000000</td>\n",
       "      <td>4898.000000</td>\n",
       "      <td>4898.000000</td>\n",
       "      <td>4898.000000</td>\n",
       "      <td>4898.000000</td>\n",
       "      <td>4898.000000</td>\n",
       "      <td>4898.000000</td>\n",
       "      <td>4898.000000</td>\n",
       "    </tr>\n",
       "    <tr>\n",
       "      <th>mean</th>\n",
       "      <td>6.854788</td>\n",
       "      <td>0.278241</td>\n",
       "      <td>0.334192</td>\n",
       "      <td>6.391415</td>\n",
       "      <td>0.045772</td>\n",
       "      <td>35.308085</td>\n",
       "      <td>138.360657</td>\n",
       "      <td>0.994027</td>\n",
       "      <td>3.188267</td>\n",
       "      <td>0.489847</td>\n",
       "      <td>10.514267</td>\n",
       "      <td>5.877909</td>\n",
       "    </tr>\n",
       "    <tr>\n",
       "      <th>std</th>\n",
       "      <td>0.843868</td>\n",
       "      <td>0.100795</td>\n",
       "      <td>0.121020</td>\n",
       "      <td>5.072058</td>\n",
       "      <td>0.021848</td>\n",
       "      <td>17.007137</td>\n",
       "      <td>42.498065</td>\n",
       "      <td>0.002991</td>\n",
       "      <td>0.151001</td>\n",
       "      <td>0.114126</td>\n",
       "      <td>1.230621</td>\n",
       "      <td>0.885639</td>\n",
       "    </tr>\n",
       "    <tr>\n",
       "      <th>min</th>\n",
       "      <td>3.800000</td>\n",
       "      <td>0.080000</td>\n",
       "      <td>0.000000</td>\n",
       "      <td>0.600000</td>\n",
       "      <td>0.009000</td>\n",
       "      <td>2.000000</td>\n",
       "      <td>9.000000</td>\n",
       "      <td>0.987110</td>\n",
       "      <td>2.720000</td>\n",
       "      <td>0.220000</td>\n",
       "      <td>8.000000</td>\n",
       "      <td>3.000000</td>\n",
       "    </tr>\n",
       "    <tr>\n",
       "      <th>25%</th>\n",
       "      <td>6.300000</td>\n",
       "      <td>0.210000</td>\n",
       "      <td>0.270000</td>\n",
       "      <td>1.700000</td>\n",
       "      <td>0.036000</td>\n",
       "      <td>23.000000</td>\n",
       "      <td>108.000000</td>\n",
       "      <td>0.991723</td>\n",
       "      <td>3.090000</td>\n",
       "      <td>0.410000</td>\n",
       "      <td>9.500000</td>\n",
       "      <td>5.000000</td>\n",
       "    </tr>\n",
       "    <tr>\n",
       "      <th>50%</th>\n",
       "      <td>6.800000</td>\n",
       "      <td>0.260000</td>\n",
       "      <td>0.320000</td>\n",
       "      <td>5.200000</td>\n",
       "      <td>0.043000</td>\n",
       "      <td>34.000000</td>\n",
       "      <td>134.000000</td>\n",
       "      <td>0.993740</td>\n",
       "      <td>3.180000</td>\n",
       "      <td>0.470000</td>\n",
       "      <td>10.400000</td>\n",
       "      <td>6.000000</td>\n",
       "    </tr>\n",
       "    <tr>\n",
       "      <th>75%</th>\n",
       "      <td>7.300000</td>\n",
       "      <td>0.320000</td>\n",
       "      <td>0.390000</td>\n",
       "      <td>9.900000</td>\n",
       "      <td>0.050000</td>\n",
       "      <td>46.000000</td>\n",
       "      <td>167.000000</td>\n",
       "      <td>0.996100</td>\n",
       "      <td>3.280000</td>\n",
       "      <td>0.550000</td>\n",
       "      <td>11.400000</td>\n",
       "      <td>6.000000</td>\n",
       "    </tr>\n",
       "    <tr>\n",
       "      <th>max</th>\n",
       "      <td>14.200000</td>\n",
       "      <td>1.100000</td>\n",
       "      <td>1.660000</td>\n",
       "      <td>65.800000</td>\n",
       "      <td>0.346000</td>\n",
       "      <td>289.000000</td>\n",
       "      <td>440.000000</td>\n",
       "      <td>1.038980</td>\n",
       "      <td>3.820000</td>\n",
       "      <td>1.080000</td>\n",
       "      <td>14.200000</td>\n",
       "      <td>9.000000</td>\n",
       "    </tr>\n",
       "  </tbody>\n",
       "</table>\n",
       "</div>"
      ],
      "text/plain": [
       "       fixed acidity  volatile acidity  citric acid  residual sugar  \\\n",
       "count    4898.000000       4898.000000  4898.000000     4898.000000   \n",
       "mean        6.854788          0.278241     0.334192        6.391415   \n",
       "std         0.843868          0.100795     0.121020        5.072058   \n",
       "min         3.800000          0.080000     0.000000        0.600000   \n",
       "25%         6.300000          0.210000     0.270000        1.700000   \n",
       "50%         6.800000          0.260000     0.320000        5.200000   \n",
       "75%         7.300000          0.320000     0.390000        9.900000   \n",
       "max        14.200000          1.100000     1.660000       65.800000   \n",
       "\n",
       "         chlorides  free sulfur dioxide  total sulfur dioxide      density  \\\n",
       "count  4898.000000          4898.000000           4898.000000  4898.000000   \n",
       "mean      0.045772            35.308085            138.360657     0.994027   \n",
       "std       0.021848            17.007137             42.498065     0.002991   \n",
       "min       0.009000             2.000000              9.000000     0.987110   \n",
       "25%       0.036000            23.000000            108.000000     0.991723   \n",
       "50%       0.043000            34.000000            134.000000     0.993740   \n",
       "75%       0.050000            46.000000            167.000000     0.996100   \n",
       "max       0.346000           289.000000            440.000000     1.038980   \n",
       "\n",
       "                pH    sulphates      alcohol      quality  \n",
       "count  4898.000000  4898.000000  4898.000000  4898.000000  \n",
       "mean      3.188267     0.489847    10.514267     5.877909  \n",
       "std       0.151001     0.114126     1.230621     0.885639  \n",
       "min       2.720000     0.220000     8.000000     3.000000  \n",
       "25%       3.090000     0.410000     9.500000     5.000000  \n",
       "50%       3.180000     0.470000    10.400000     6.000000  \n",
       "75%       3.280000     0.550000    11.400000     6.000000  \n",
       "max       3.820000     1.080000    14.200000     9.000000  "
      ]
     },
     "execution_count": 40,
     "metadata": {},
     "output_type": "execute_result"
    }
   ],
   "source": [
    "d.describe()"
   ]
  },
  {
   "cell_type": "code",
   "execution_count": 41,
   "metadata": {},
   "outputs": [],
   "source": [
    "#we are want to illustrate the validity of the tree approxomatio approach, not \"solve\" the vino verde problem. So for the sake of simplicity we will suppress NaN data\n",
    "d1=d.dropna()"
   ]
  },
  {
   "cell_type": "code",
   "execution_count": 42,
   "metadata": {},
   "outputs": [
    {
     "data": {
      "text/plain": [
       "<matplotlib.axes._subplots.AxesSubplot at 0x1d8f121ac18>"
      ]
     },
     "execution_count": 42,
     "metadata": {},
     "output_type": "execute_result"
    },
    {
     "data": {
      "image/png": "[encoded data removed]",
      "text/plain": [
       "<matplotlib.figure.Figure at 0x1d8f2755ac8>"
      ]
     },
     "metadata": {},
     "output_type": "display_data"
    }
   ],
   "source": [
    "d1['quality'].hist()"
   ]
  },
  {
   "cell_type": "code",
   "execution_count": 43,
   "metadata": {},
   "outputs": [],
   "source": [
    "#let's separate between train and test\n",
    "y=d1['quality']\n",
    "X=d1.drop('quality',axis=1)\n",
    "from sklearn.model_selection import train_test_split\n",
    "X_train, X_test, y_train, y_test = train_test_split(X, y, random_state=42)"
   ]
  },
  {
   "cell_type": "markdown",
   "metadata": {},
   "source": [
    "## Let's first try a single tree on the train set"
   ]
  },
  {
   "cell_type": "code",
   "execution_count": 44,
   "metadata": {},
   "outputs": [],
   "source": [
    "param_grid = {'max_depth': range(1,15)}\n",
    "from sklearn.tree import DecisionTreeRegressor\n",
    "from sklearn.model_selection import GridSearchCV"
   ]
  },
  {
   "cell_type": "code",
   "execution_count": 45,
   "metadata": {},
   "outputs": [
    {
     "data": {
      "text/plain": [
       "GridSearchCV(cv=5, error_score='raise',\n",
       "       estimator=DecisionTreeRegressor(criterion='mse', max_depth=None, max_features=None,\n",
       "           max_leaf_nodes=None, min_impurity_decrease=0.0,\n",
       "           min_impurity_split=None, min_samples_leaf=1,\n",
       "           min_samples_split=2, min_weight_fraction_leaf=0.0,\n",
       "           presort=False, random_state=None, splitter='best'),\n",
       "       fit_params=None, iid=True, n_jobs=1,\n",
       "       param_grid={'max_depth': range(1, 15)}, pre_dispatch='2*n_jobs',\n",
       "       refit=True, return_train_score=True, scoring=None, verbose=0)"
      ]
     },
     "execution_count": 45,
     "metadata": {},
     "output_type": "execute_result"
    }
   ],
   "source": [
    "grid_search = GridSearchCV(DecisionTreeRegressor(), param_grid, cv=5,\n",
    "                          return_train_score=True)\n",
    "grid_search.fit(X_train, y_train)"
   ]
  },
  {
   "cell_type": "code",
   "execution_count": 46,
   "metadata": {},
   "outputs": [
    {
     "name": "stdout",
     "output_type": "stream",
     "text": [
      "Best parameters: {'max_depth': 6}\n",
      "Best cross-validation score: 0.28\n"
     ]
    }
   ],
   "source": [
    "print(\"Best parameters: {}\".format(grid_search.best_params_))\n",
    "print(\"Best cross-validation score: {:.2f}\".format(grid_search.best_score_))"
   ]
  },
  {
   "cell_type": "code",
   "execution_count": 30,
   "metadata": {},
   "outputs": [
    {
     "name": "stdout",
     "output_type": "stream",
     "text": [
      "Test set score: 0.29\n"
     ]
    }
   ],
   "source": [
    "print(\"Test set score: {:.2f}\".format(grid_search.score(X_test, y_test)))"
   ]
  },
  {
   "cell_type": "code",
   "execution_count": 49,
   "metadata": {},
   "outputs": [
    {
     "name": "stdout",
     "output_type": "stream",
     "text": [
      "for a depth of 6\n",
      "R2 on training set is 0.42\n",
      "R2 on test set is 0.31\n"
     ]
    }
   ],
   "source": [
    "### fiting with those parameters on the whole training set\n",
    "k=6\n",
    "tree = DecisionTreeRegressor(max_depth=k)\n",
    "tree.fit(X_train,y_train)\n",
    "R2_appr=tree.score(X_train,y_train)\n",
    "R2_test=tree.score(X_test,y_test)\n",
    "print('for a depth of',k)\n",
    "print(\"R2 on training set is {:.2f}\".format(R2_appr))\n",
    "print(\"R2 on test set is {:.2f}\".format(R2_test))"
   ]
  },
  {
   "cell_type": "code",
   "execution_count": 50,
   "metadata": {},
   "outputs": [
    {
     "data": {
      "text/plain": [
       "<matplotlib.figure.Figure at 0x1d8f2713d68>"
      ]
     },
     "metadata": {},
     "output_type": "display_data"
    },
    {
     "data": {
      "image/png": "[encoded data removed]",
      "text/plain": [
       "<matplotlib.figure.Figure at 0x1d8f23fbdd8>"
      ]
     },
     "metadata": {},
     "output_type": "display_data"
    }
   ],
   "source": [
    "# adapted from Muller & Guido \n",
    "# https://github.com/amueller/introduction_to_ml_with_python/blob/master/02-supervised-learning.ipynb\n",
    "\n",
    "def plot_feature_importances(model, Frame):\n",
    "    plt.clf()\n",
    "    n_features=len(Frame.columns)\n",
    "    plt.figure(figsize=(15,15))\n",
    "    plt.barh(range(n_features), model.feature_importances_, align='center')\n",
    "    plt.yticks(np.arange(n_features), Frame.columns)\n",
    "    plt.xlabel(\"Feature importance\")\n",
    "    plt.ylabel(\"Feature\")\n",
    "    plt.ylim(-1, n_features)\n",
    "\n",
    "\n",
    "plot_feature_importances(tree,X_train)\n",
    "plt.show()  "
   ]
  },
  {
   "cell_type": "markdown",
   "metadata": {},
   "source": [
    "# Let's try a Random forest"
   ]
  },
  {
   "cell_type": "code",
   "execution_count": 52,
   "metadata": {},
   "outputs": [
    {
     "name": "stdout",
     "output_type": "stream",
     "text": [
      "Best parameters: {'max_depth': None, 'max_features': 3}\n",
      "Best cross-validation score: 0.44\n",
      "Test set score: 0.51\n"
     ]
    }
   ],
   "source": [
    "param_grid = {'max_depth': [1,2,3,4,5,6, 7,8, 9, 10, 11, 12, None], 'max_features': [3, 5,10,None]}\n",
    "from sklearn.ensemble import RandomForestRegressor\n",
    "grid_search = GridSearchCV(RandomForestRegressor(), param_grid, cv=5,return_train_score=True)\n",
    "grid_search.fit(X_train, y_train)\n",
    "print(\"Best parameters: {}\".format(grid_search.best_params_))\n",
    "print(\"Best cross-validation score: {:.2f}\".format(grid_search.best_score_))\n",
    "print(\"Test set score: {:.2f}\".format(grid_search.score(X_test, y_test)))"
   ]
  },
  {
   "cell_type": "code",
   "execution_count": 53,
   "metadata": {},
   "outputs": [
    {
     "name": "stdout",
     "output_type": "stream",
     "text": [
      "R2 out of sample 0.50\n"
     ]
    }
   ],
   "source": [
    "rdf = RandomForestRegressor(max_depth=None, max_features= 3)\n",
    "rdf.fit(X_train,y_train)\n",
    "print(\"R2 out of sample {:.2f}\".format(rdf.score(X_test,y_test)))"
   ]
  },
  {
   "cell_type": "markdown",
   "metadata": {},
   "source": [
    "# Let's try a Gradient Boosting"
   ]
  },
  {
   "cell_type": "code",
   "execution_count": 54,
   "metadata": {},
   "outputs": [],
   "source": [
    "from sklearn.ensemble import GradientBoostingRegressor"
   ]
  },
  {
   "cell_type": "markdown",
   "metadata": {},
   "source": [
    "#### with gridSearch (wich is a bit long)"
   ]
  },
  {
   "cell_type": "code",
   "execution_count": 55,
   "metadata": {},
   "outputs": [
    {
     "name": "stdout",
     "output_type": "stream",
     "text": [
      "Best parameters: {'learning_rate': 0.05, 'max_depth': None, 'max_features': 3}\n",
      "Best cross-validation score: 0.51\n",
      "Test set score: 0.56\n"
     ]
    }
   ],
   "source": [
    "param_grid = {'max_depth': [1,2,3,5,None],'max_features': [3,5,10,None],'learning_rate' : [0.03,0.05,0.1,0.2]}\n",
    "grid_search = GridSearchCV(GradientBoostingRegressor(), param_grid, cv=5, return_train_score=True)\n",
    "grid_search.fit(X_train, y_train)\n",
    "print(\"Best parameters: {}\".format(grid_search.best_params_))\n",
    "print(\"Best cross-validation score: {:.2f}\".format(grid_search.best_score_))\n",
    "print(\"Test set score: {:.2f}\".format(grid_search.score(X_test, y_test)))"
   ]
  },
  {
   "cell_type": "markdown",
   "metadata": {},
   "source": [
    "#### fit on the whole training set"
   ]
  },
  {
   "cell_type": "code",
   "execution_count": 68,
   "metadata": {},
   "outputs": [
    {
     "name": "stdout",
     "output_type": "stream",
     "text": [
      "le R2 in sample est de 1.00\n",
      "et le R2 out of sample est de 0.56\n"
     ]
    }
   ],
   "source": [
    "gbr = GradientBoostingRegressor(max_depth =None,max_features=3,learning_rate=0.05)\n",
    "gbr.fit(X_train,y_train)\n",
    "print(\"le R2 in sample est de {:.2f}\".format(gbr.score(X_train,y_train)))\n",
    "print(\"et le R2 out of sample est de {:.2f}\".format(gbr.score(X_test,y_test)))"
   ]
  },
  {
   "cell_type": "markdown",
   "metadata": {},
   "source": [
    "### The RF and GB are much better than the single tree at predecting the wine quality. Let's suppose we are not allowed to use those black box models. We still can build a simple yet improved tree, by using the knowledge provided by the black box. "
   ]
  },
  {
   "cell_type": "markdown",
   "metadata": {},
   "source": [
    "# First generate unlabeled data points \"similar\" to those of the training set"
   ]
  },
  {
   "cell_type": "markdown",
   "metadata": {},
   "source": [
    "## we use a multivariate gaussian distribution estimated on the training set"
   ]
  },
  {
   "cell_type": "code",
   "execution_count": 57,
   "metadata": {},
   "outputs": [],
   "source": [
    "echmean=X_train.mean(axis=0)"
   ]
  },
  {
   "cell_type": "code",
   "execution_count": 59,
   "metadata": {},
   "outputs": [],
   "source": [
    "# let's compute covariance on the training set\n",
    "echcov= X_train.cov()"
   ]
  },
  {
   "cell_type": "code",
   "execution_count": 60,
   "metadata": {},
   "outputs": [],
   "source": [
    "# let's now randomly draw points\n",
    "X_virt= np.random.multivariate_normal(echmean, echcov, 100000, check_valid ='warn')"
   ]
  },
  {
   "cell_type": "code",
   "execution_count": 61,
   "metadata": {},
   "outputs": [
    {
     "name": "stdout",
     "output_type": "stream",
     "text": [
      "(100000, 11)\n"
     ]
    }
   ],
   "source": [
    "print(X_virt.shape)"
   ]
  },
  {
   "cell_type": "code",
   "execution_count": 62,
   "metadata": {},
   "outputs": [
    {
     "data": {
      "text/html": [
       "<div>\n",
       "<style scoped>\n",
       "    .dataframe tbody tr th:only-of-type {\n",
       "        vertical-align: middle;\n",
       "    }\n",
       "\n",
       "    .dataframe tbody tr th {\n",
       "        vertical-align: top;\n",
       "    }\n",
       "\n",
       "    .dataframe thead th {\n",
       "        text-align: right;\n",
       "    }\n",
       "</style>\n",
       "<table border=\"1\" class=\"dataframe\">\n",
       "  <thead>\n",
       "    <tr style=\"text-align: right;\">\n",
       "      <th></th>\n",
       "      <th>fixed acidity</th>\n",
       "      <th>volatile acidity</th>\n",
       "      <th>citric acid</th>\n",
       "      <th>residual sugar</th>\n",
       "      <th>chlorides</th>\n",
       "      <th>free sulfur dioxide</th>\n",
       "      <th>total sulfur dioxide</th>\n",
       "      <th>density</th>\n",
       "      <th>pH</th>\n",
       "      <th>sulphates</th>\n",
       "      <th>alcohol</th>\n",
       "    </tr>\n",
       "  </thead>\n",
       "  <tbody>\n",
       "    <tr>\n",
       "      <th>count</th>\n",
       "      <td>100000.000000</td>\n",
       "      <td>100000.000000</td>\n",
       "      <td>100000.000000</td>\n",
       "      <td>100000.000000</td>\n",
       "      <td>100000.000000</td>\n",
       "      <td>100000.000000</td>\n",
       "      <td>100000.000000</td>\n",
       "      <td>100000.000000</td>\n",
       "      <td>100000.000000</td>\n",
       "      <td>100000.000000</td>\n",
       "      <td>100000.000000</td>\n",
       "    </tr>\n",
       "    <tr>\n",
       "      <th>mean</th>\n",
       "      <td>6.864985</td>\n",
       "      <td>0.279465</td>\n",
       "      <td>0.333350</td>\n",
       "      <td>6.450871</td>\n",
       "      <td>0.045577</td>\n",
       "      <td>35.272664</td>\n",
       "      <td>138.484540</td>\n",
       "      <td>0.994080</td>\n",
       "      <td>3.189608</td>\n",
       "      <td>0.489310</td>\n",
       "      <td>10.503121</td>\n",
       "    </tr>\n",
       "    <tr>\n",
       "      <th>std</th>\n",
       "      <td>0.849752</td>\n",
       "      <td>0.101685</td>\n",
       "      <td>0.120118</td>\n",
       "      <td>5.131988</td>\n",
       "      <td>0.021220</td>\n",
       "      <td>16.778241</td>\n",
       "      <td>42.104778</td>\n",
       "      <td>0.003031</td>\n",
       "      <td>0.149258</td>\n",
       "      <td>0.113389</td>\n",
       "      <td>1.233376</td>\n",
       "    </tr>\n",
       "    <tr>\n",
       "      <th>min</th>\n",
       "      <td>2.889589</td>\n",
       "      <td>-0.166731</td>\n",
       "      <td>-0.224860</td>\n",
       "      <td>-15.235920</td>\n",
       "      <td>-0.056763</td>\n",
       "      <td>-37.487850</td>\n",
       "      <td>-44.126767</td>\n",
       "      <td>0.979860</td>\n",
       "      <td>2.519409</td>\n",
       "      <td>-0.009918</td>\n",
       "      <td>5.423965</td>\n",
       "    </tr>\n",
       "    <tr>\n",
       "      <th>25%</th>\n",
       "      <td>6.292101</td>\n",
       "      <td>0.211125</td>\n",
       "      <td>0.251828</td>\n",
       "      <td>2.989215</td>\n",
       "      <td>0.031297</td>\n",
       "      <td>24.042063</td>\n",
       "      <td>109.949742</td>\n",
       "      <td>0.992040</td>\n",
       "      <td>3.089487</td>\n",
       "      <td>0.412999</td>\n",
       "      <td>9.670512</td>\n",
       "    </tr>\n",
       "    <tr>\n",
       "      <th>50%</th>\n",
       "      <td>6.866787</td>\n",
       "      <td>0.279320</td>\n",
       "      <td>0.333470</td>\n",
       "      <td>6.444367</td>\n",
       "      <td>0.045684</td>\n",
       "      <td>35.282912</td>\n",
       "      <td>138.491812</td>\n",
       "      <td>0.994073</td>\n",
       "      <td>3.189414</td>\n",
       "      <td>0.488819</td>\n",
       "      <td>10.503024</td>\n",
       "    </tr>\n",
       "    <tr>\n",
       "      <th>75%</th>\n",
       "      <td>7.434753</td>\n",
       "      <td>0.348098</td>\n",
       "      <td>0.414126</td>\n",
       "      <td>9.900989</td>\n",
       "      <td>0.059867</td>\n",
       "      <td>46.541598</td>\n",
       "      <td>166.805674</td>\n",
       "      <td>0.996118</td>\n",
       "      <td>3.290853</td>\n",
       "      <td>0.566075</td>\n",
       "      <td>11.332737</td>\n",
       "    </tr>\n",
       "    <tr>\n",
       "      <th>max</th>\n",
       "      <td>10.668146</td>\n",
       "      <td>0.712350</td>\n",
       "      <td>0.883823</td>\n",
       "      <td>28.425951</td>\n",
       "      <td>0.137364</td>\n",
       "      <td>111.722872</td>\n",
       "      <td>328.219216</td>\n",
       "      <td>1.007085</td>\n",
       "      <td>3.844140</td>\n",
       "      <td>0.973187</td>\n",
       "      <td>16.521344</td>\n",
       "    </tr>\n",
       "  </tbody>\n",
       "</table>\n",
       "</div>"
      ],
      "text/plain": [
       "       fixed acidity  volatile acidity    citric acid  residual sugar  \\\n",
       "count  100000.000000     100000.000000  100000.000000   100000.000000   \n",
       "mean        6.864985          0.279465       0.333350        6.450871   \n",
       "std         0.849752          0.101685       0.120118        5.131988   \n",
       "min         2.889589         -0.166731      -0.224860      -15.235920   \n",
       "25%         6.292101          0.211125       0.251828        2.989215   \n",
       "50%         6.866787          0.279320       0.333470        6.444367   \n",
       "75%         7.434753          0.348098       0.414126        9.900989   \n",
       "max        10.668146          0.712350       0.883823       28.425951   \n",
       "\n",
       "           chlorides  free sulfur dioxide  total sulfur dioxide  \\\n",
       "count  100000.000000        100000.000000         100000.000000   \n",
       "mean        0.045577            35.272664            138.484540   \n",
       "std         0.021220            16.778241             42.104778   \n",
       "min        -0.056763           -37.487850            -44.126767   \n",
       "25%         0.031297            24.042063            109.949742   \n",
       "50%         0.045684            35.282912            138.491812   \n",
       "75%         0.059867            46.541598            166.805674   \n",
       "max         0.137364           111.722872            328.219216   \n",
       "\n",
       "             density             pH      sulphates        alcohol  \n",
       "count  100000.000000  100000.000000  100000.000000  100000.000000  \n",
       "mean        0.994080       3.189608       0.489310      10.503121  \n",
       "std         0.003031       0.149258       0.113389       1.233376  \n",
       "min         0.979860       2.519409      -0.009918       5.423965  \n",
       "25%         0.992040       3.089487       0.412999       9.670512  \n",
       "50%         0.994073       3.189414       0.488819      10.503024  \n",
       "75%         0.996118       3.290853       0.566075      11.332737  \n",
       "max         1.007085       3.844140       0.973187      16.521344  "
      ]
     },
     "execution_count": 62,
     "metadata": {},
     "output_type": "execute_result"
    }
   ],
   "source": [
    "d_virt=pd.DataFrame(X_virt, columns=X_train.columns)\n",
    "d_virt.describe()"
   ]
  },
  {
   "cell_type": "markdown",
   "metadata": {},
   "source": [
    "### Here is the trick : let's label those new data using the black box model as an oracle"
   ]
  },
  {
   "cell_type": "code",
   "execution_count": 64,
   "metadata": {},
   "outputs": [],
   "source": [
    "y_virt=gbr.predict(d_virt)"
   ]
  },
  {
   "cell_type": "code",
   "execution_count": 65,
   "metadata": {},
   "outputs": [
    {
     "name": "stdout",
     "output_type": "stream",
     "text": [
      "[5.33091855 5.94922479 5.95162938 ... 6.4448302  6.52707485 6.02740273]\n"
     ]
    }
   ],
   "source": [
    "print(y_virt)"
   ]
  },
  {
   "cell_type": "markdown",
   "metadata": {},
   "source": [
    "### Now let's try a single tree on those numerous virtual datas (we don't bother to add the true training set since it's so small compared to the virtual one)"
   ]
  },
  {
   "cell_type": "code",
   "execution_count": 66,
   "metadata": {
    "scrolled": true
   },
   "outputs": [
    {
     "name": "stdout",
     "output_type": "stream",
     "text": [
      "k= 4 average cross-validation score: 0.63\n",
      "k= 5 average cross-validation score: 0.69\n",
      "k= 6 average cross-validation score: 0.74\n",
      "k= 7 average cross-validation score: 0.76\n",
      "k= 8 average cross-validation score: 0.79\n",
      "k= 9 average cross-validation score: 0.80\n",
      "k= 10 average cross-validation score: 0.82\n",
      "k= 11 average cross-validation score: 0.83\n",
      "k= 12 average cross-validation score: 0.83\n",
      "k= 13 average cross-validation score: 0.83\n",
      "k= 14 average cross-validation score: 0.83\n"
     ]
    }
   ],
   "source": [
    "for i in range (4,15):\n",
    "    tree = DecisionTreeRegressor(max_depth=i,random_state=42)\n",
    "    score=cross_val_score(tree,d_virt,y_virt,cv=5).mean() \n",
    "    print(\"k=\",i,\"average cross-validation score: {:.2f}\".format(score))"
   ]
  },
  {
   "cell_type": "markdown",
   "metadata": {},
   "source": [
    "### The trees fit quite well the virtual data. But the important question is : do they fit the true training set ? "
   ]
  },
  {
   "cell_type": "code",
   "execution_count": 76,
   "metadata": {},
   "outputs": [
    {
     "name": "stdout",
     "output_type": "stream",
     "text": [
      "pour une profondeur de 11\n",
      "le R2 sur l'échantillon d'apprentissage original est de 0.43\n",
      "et le R2 sur le vrai échantillon de test est de 0.37\n"
     ]
    }
   ],
   "source": [
    "# Optimum seems ton be around 11 but that makes a quite complicated tree. Let's limit it to 8\n",
    "k=11\n",
    "tree = DecisionTreeRegressor(max_depth=k)\n",
    "tree.fit(d_virt,y_virt)\n",
    "R2_appr=tree.score(X_train,y_train)\n",
    "R2_test=tree.score(X_test,y_test)\n",
    "print('pour une profondeur de',k)\n",
    "print(\"le R2 sur l'échantillon d'apprentissage original est de {:.2f}\".format(R2_appr))\n",
    "print(\"et le R2 sur le vrai échantillon de test est de {:.2f}\".format(R2_test))"
   ]
  },
  {
   "cell_type": "markdown",
   "metadata": {},
   "source": [
    "### better than the initial tree, but much lower thant the best models. "
   ]
  },
  {
   "cell_type": "code",
   "execution_count": 71,
   "metadata": {},
   "outputs": [],
   "source": [
    "# essayons avec les prévisions du random forest\n",
    "z_virt=rdf.predict(d_virt)"
   ]
  },
  {
   "cell_type": "code",
   "execution_count": 73,
   "metadata": {},
   "outputs": [
    {
     "name": "stdout",
     "output_type": "stream",
     "text": [
      "k= 5 average cross-validation score: 0.58\n",
      "k= 6 average cross-validation score: 0.62\n",
      "k= 7 average cross-validation score: 0.65\n",
      "k= 8 average cross-validation score: 0.67\n",
      "k= 9 average cross-validation score: 0.69\n",
      "k= 10 average cross-validation score: 0.70\n",
      "k= 11 average cross-validation score: 0.70\n"
     ]
    }
   ],
   "source": [
    "for i in range (5,12):\n",
    "    tree1 = DecisionTreeRegressor(max_depth=i,random_state=42)\n",
    "    score=cross_val_score(tree1,d_virt,z_virt,cv=5).mean() \n",
    "    print(\"k=\",i,\"average cross-validation score: {:.2f}\".format(score))"
   ]
  },
  {
   "cell_type": "code",
   "execution_count": 75,
   "metadata": {},
   "outputs": [
    {
     "name": "stdout",
     "output_type": "stream",
     "text": [
      "pour une profondeur de 10\n",
      "le R2 sur l'échantillon d'apprentissage original est de 0.41\n",
      "et le R2 sur le vrai échantillon de test est de 0.36\n"
     ]
    }
   ],
   "source": [
    "# #the trees dont fit the artificial data very well. \n",
    "# still let's look at the performance on the test set\n",
    "k=10\n",
    "tree1 = DecisionTreeRegressor(max_depth=k)\n",
    "tree1.fit(d_virt,y_virt)\n",
    "R2_appr=tree1.score(X_train,y_train)\n",
    "R2_test=tree1.score(X_test,y_test)\n",
    "print('pour une profondeur de',k)\n",
    "print(\"le R2 sur l'échantillon d'apprentissage original est de {:.2f}\".format(R2_appr))\n",
    "print(\"et le R2 sur le vrai échantillon de test est de {:.2f}\".format(R2_test))"
   ]
  },
  {
   "cell_type": "markdown",
   "metadata": {},
   "source": [
    "## Better than the original tree, but by a thin margin. A larger number of additionnal data would probably help, but will lengthen the computing time. Let's try this with a determinist strategy to generate additionnal data."
   ]
  },
  {
   "cell_type": "markdown",
   "metadata": {},
   "source": [
    "###  Rather than gaussian random draws, we will use a deterministic procedure : take the middle point between each pair of initial data (that will be a huge number of points in that case)"
   ]
  },
  {
   "cell_type": "code",
   "execution_count": 78,
   "metadata": {},
   "outputs": [
    {
     "data": {
      "text/html": [
       "<div>\n",
       "<style scoped>\n",
       "    .dataframe tbody tr th:only-of-type {\n",
       "        vertical-align: middle;\n",
       "    }\n",
       "\n",
       "    .dataframe tbody tr th {\n",
       "        vertical-align: top;\n",
       "    }\n",
       "\n",
       "    .dataframe thead th {\n",
       "        text-align: right;\n",
       "    }\n",
       "</style>\n",
       "<table border=\"1\" class=\"dataframe\">\n",
       "  <thead>\n",
       "    <tr style=\"text-align: right;\">\n",
       "      <th></th>\n",
       "      <th>fixed acidity</th>\n",
       "      <th>volatile acidity</th>\n",
       "      <th>citric acid</th>\n",
       "      <th>residual sugar</th>\n",
       "      <th>chlorides</th>\n",
       "      <th>free sulfur dioxide</th>\n",
       "      <th>total sulfur dioxide</th>\n",
       "      <th>density</th>\n",
       "      <th>pH</th>\n",
       "      <th>sulphates</th>\n",
       "      <th>alcohol</th>\n",
       "    </tr>\n",
       "  </thead>\n",
       "  <tbody>\n",
       "    <tr>\n",
       "      <th>count</th>\n",
       "      <td>1.349093e+07</td>\n",
       "      <td>1.349093e+07</td>\n",
       "      <td>1.349093e+07</td>\n",
       "      <td>1.349093e+07</td>\n",
       "      <td>1.349093e+07</td>\n",
       "      <td>1.349093e+07</td>\n",
       "      <td>1.349093e+07</td>\n",
       "      <td>1.349093e+07</td>\n",
       "      <td>1.349093e+07</td>\n",
       "      <td>1.349093e+07</td>\n",
       "      <td>1.349093e+07</td>\n",
       "    </tr>\n",
       "    <tr>\n",
       "      <th>mean</th>\n",
       "      <td>6.865369e+00</td>\n",
       "      <td>2.791778e-01</td>\n",
       "      <td>3.332072e-01</td>\n",
       "      <td>6.437912e+00</td>\n",
       "      <td>4.559406e-02</td>\n",
       "      <td>3.518296e+01</td>\n",
       "      <td>1.383041e+02</td>\n",
       "      <td>9.940657e-01</td>\n",
       "      <td>3.189363e+00</td>\n",
       "      <td>4.895426e-01</td>\n",
       "      <td>1.051027e+01</td>\n",
       "    </tr>\n",
       "    <tr>\n",
       "      <th>std</th>\n",
       "      <td>5.987321e-01</td>\n",
       "      <td>7.180040e-02</td>\n",
       "      <td>8.493012e-02</td>\n",
       "      <td>3.634005e+00</td>\n",
       "      <td>1.497541e-02</td>\n",
       "      <td>1.188677e+01</td>\n",
       "      <td>2.971338e+01</td>\n",
       "      <td>2.139934e-03</td>\n",
       "      <td>1.057565e-01</td>\n",
       "      <td>8.029811e-02</td>\n",
       "      <td>8.699087e-01</td>\n",
       "    </tr>\n",
       "    <tr>\n",
       "      <th>min</th>\n",
       "      <td>3.800000e+00</td>\n",
       "      <td>8.000000e-02</td>\n",
       "      <td>0.000000e+00</td>\n",
       "      <td>6.000000e-01</td>\n",
       "      <td>9.000000e-03</td>\n",
       "      <td>3.000000e+00</td>\n",
       "      <td>1.000000e+01</td>\n",
       "      <td>9.871100e-01</td>\n",
       "      <td>2.720000e+00</td>\n",
       "      <td>2.200000e-01</td>\n",
       "      <td>8.000000e+00</td>\n",
       "    </tr>\n",
       "    <tr>\n",
       "      <th>25%</th>\n",
       "      <td>6.450000e+00</td>\n",
       "      <td>2.300000e-01</td>\n",
       "      <td>2.800000e-01</td>\n",
       "      <td>3.625000e+00</td>\n",
       "      <td>3.800000e-02</td>\n",
       "      <td>2.700000e+01</td>\n",
       "      <td>1.175000e+02</td>\n",
       "      <td>9.925400e-01</td>\n",
       "      <td>3.115000e+00</td>\n",
       "      <td>4.350000e-01</td>\n",
       "      <td>9.850000e+00</td>\n",
       "    </tr>\n",
       "    <tr>\n",
       "      <th>50%</th>\n",
       "      <td>6.850000e+00</td>\n",
       "      <td>2.700000e-01</td>\n",
       "      <td>3.250000e-01</td>\n",
       "      <td>6.100000e+00</td>\n",
       "      <td>4.300000e-02</td>\n",
       "      <td>3.450000e+01</td>\n",
       "      <td>1.375000e+02</td>\n",
       "      <td>9.939900e-01</td>\n",
       "      <td>3.185000e+00</td>\n",
       "      <td>4.800000e-01</td>\n",
       "      <td>1.045000e+01</td>\n",
       "    </tr>\n",
       "    <tr>\n",
       "      <th>75%</th>\n",
       "      <td>7.250000e+00</td>\n",
       "      <td>3.150000e-01</td>\n",
       "      <td>3.800000e-01</td>\n",
       "      <td>8.775000e+00</td>\n",
       "      <td>4.850000e-02</td>\n",
       "      <td>4.250000e+01</td>\n",
       "      <td>1.580000e+02</td>\n",
       "      <td>9.954650e-01</td>\n",
       "      <td>3.255000e+00</td>\n",
       "      <td>5.350000e-01</td>\n",
       "      <td>1.110000e+01</td>\n",
       "    </tr>\n",
       "    <tr>\n",
       "      <th>max</th>\n",
       "      <td>1.180000e+01</td>\n",
       "      <td>1.100000e+00</td>\n",
       "      <td>1.660000e+00</td>\n",
       "      <td>6.580000e+01</td>\n",
       "      <td>3.460000e-01</td>\n",
       "      <td>1.465000e+02</td>\n",
       "      <td>3.130000e+02</td>\n",
       "      <td>1.038980e+00</td>\n",
       "      <td>3.820000e+00</td>\n",
       "      <td>1.060000e+00</td>\n",
       "      <td>1.420000e+01</td>\n",
       "    </tr>\n",
       "  </tbody>\n",
       "</table>\n",
       "</div>"
      ],
      "text/plain": [
       "       fixed acidity  volatile acidity   citric acid  residual sugar  \\\n",
       "count   1.349093e+07      1.349093e+07  1.349093e+07    1.349093e+07   \n",
       "mean    6.865369e+00      2.791778e-01  3.332072e-01    6.437912e+00   \n",
       "std     5.987321e-01      7.180040e-02  8.493012e-02    3.634005e+00   \n",
       "min     3.800000e+00      8.000000e-02  0.000000e+00    6.000000e-01   \n",
       "25%     6.450000e+00      2.300000e-01  2.800000e-01    3.625000e+00   \n",
       "50%     6.850000e+00      2.700000e-01  3.250000e-01    6.100000e+00   \n",
       "75%     7.250000e+00      3.150000e-01  3.800000e-01    8.775000e+00   \n",
       "max     1.180000e+01      1.100000e+00  1.660000e+00    6.580000e+01   \n",
       "\n",
       "          chlorides  free sulfur dioxide  total sulfur dioxide       density  \\\n",
       "count  1.349093e+07         1.349093e+07          1.349093e+07  1.349093e+07   \n",
       "mean   4.559406e-02         3.518296e+01          1.383041e+02  9.940657e-01   \n",
       "std    1.497541e-02         1.188677e+01          2.971338e+01  2.139934e-03   \n",
       "min    9.000000e-03         3.000000e+00          1.000000e+01  9.871100e-01   \n",
       "25%    3.800000e-02         2.700000e+01          1.175000e+02  9.925400e-01   \n",
       "50%    4.300000e-02         3.450000e+01          1.375000e+02  9.939900e-01   \n",
       "75%    4.850000e-02         4.250000e+01          1.580000e+02  9.954650e-01   \n",
       "max    3.460000e-01         1.465000e+02          3.130000e+02  1.038980e+00   \n",
       "\n",
       "                 pH     sulphates       alcohol  \n",
       "count  1.349093e+07  1.349093e+07  1.349093e+07  \n",
       "mean   3.189363e+00  4.895426e-01  1.051027e+01  \n",
       "std    1.057565e-01  8.029811e-02  8.699087e-01  \n",
       "min    2.720000e+00  2.200000e-01  8.000000e+00  \n",
       "25%    3.115000e+00  4.350000e-01  9.850000e+00  \n",
       "50%    3.185000e+00  4.800000e-01  1.045000e+01  \n",
       "75%    3.255000e+00  5.350000e-01  1.110000e+01  \n",
       "max    3.820000e+00  1.060000e+00  1.420000e+01  "
      ]
     },
     "execution_count": 78,
     "metadata": {},
     "output_type": "execute_result"
    }
   ],
   "source": [
    "long=len(X_train)\n",
    "court=len(X_train.columns)\n",
    "X_virt=np.zeros((long*long,court))\n",
    "X_val=X_train.values\n",
    "for i in range(long):\n",
    "    for j in range(long):\n",
    "        for k in range(court):\n",
    "            X_virt[i+long*j,k]=(X_val[i,k]+X_val[j,k])/2\n",
    "d_virt=pd.DataFrame(X_virt, columns=X_train.columns)\n",
    "d_virt.describe()"
   ]
  },
  {
   "cell_type": "code",
   "execution_count": 79,
   "metadata": {},
   "outputs": [],
   "source": [
    "#let's label those points with the black box prediction\n",
    "y_virt=gbr.predict(d_virt)"
   ]
  },
  {
   "cell_type": "code",
   "execution_count": 81,
   "metadata": {},
   "outputs": [
    {
     "name": "stdout",
     "output_type": "stream",
     "text": [
      "k= 7 average cross-validation score: 0.807\n",
      "k= 8 average cross-validation score: 0.826\n",
      "k= 9 average cross-validation score: 0.843\n",
      "k= 10 average cross-validation score: 0.858\n",
      "k= 11 average cross-validation score: 0.872\n",
      "k= 12 average cross-validation score: 0.883\n",
      "k= 13 average cross-validation score: 0.893\n",
      "k= 14 average cross-validation score: 0.902\n"
     ]
    }
   ],
   "source": [
    "#as above, let(s fit a tree on those data (it will take time !)\n",
    "for i in range (10,17):\n",
    "    tree = DecisionTreeRegressor(max_depth=i,random_state=42)\n",
    "    score=cross_val_score(tree,d_virt,y_virt,cv=5).mean() \n",
    "    print(\"k=\",i,\"average cross-validation score: {:.3f}\".format(score))    "
   ]
  },
  {
   "cell_type": "code",
   "execution_count": 83,
   "metadata": {},
   "outputs": [
    {
     "name": "stdout",
     "output_type": "stream",
     "text": [
      "pour une profondeur de 14\n",
      "le R2 sur l'échantillon d'apprentissage original est de 0.63\n",
      "et le R2 sur le vrai échantillon de test est de 0.41\n"
     ]
    }
   ],
   "source": [
    "# Does the optimal tree fits well the real data ? \n",
    "k=14\n",
    "tree = DecisionTreeRegressor(max_depth=k)\n",
    "tree.fit(d_virt,y_virt)\n",
    "R2_appr=tree.score(X_train,y_train)\n",
    "R2_test=tree.score(X_test,y_test)\n",
    "print('pour une profondeur de',k)\n",
    "print(\"le R2 sur l'échantillon d'apprentissage original est de {:.2f}\".format(R2_appr))\n",
    "print(\"et le R2 sur le vrai échantillon de test est de {:.2f}\".format(R2_test))"
   ]
  },
  {
   "cell_type": "markdown",
   "metadata": {},
   "source": [
    " #### We observe a marked improvement over both the initial tree and the tree obtained from a smaller number of artificial data. The  resulting tree is a bit complicated (deep). Is a less deep tree a good predictor ?"
   ]
  },
  {
   "cell_type": "code",
   "execution_count": 85,
   "metadata": {},
   "outputs": [
    {
     "name": "stdout",
     "output_type": "stream",
     "text": [
      "pour une profondeur de 9\n",
      "le R2 sur l'échantillon d'apprentissage original est de 0.41\n",
      "et le R2 sur le vrai échantillon de test est de 0.35\n"
     ]
    }
   ],
   "source": [
    "k=9\n",
    "tree = DecisionTreeRegressor(max_depth=k)\n",
    "tree.fit(d_virt,y_virt)\n",
    "R2_appr=tree.score(X_train,y_train)\n",
    "R2_test=tree.score(X_test,y_test)\n",
    "print('pour une profondeur de',k)\n",
    "print(\"le R2 sur l'échantillon d'apprentissage original est de {:.2f}\".format(R2_appr))\n",
    "print(\"et le R2 sur le vrai échantillon de test est de {:.2f}\".format(R2_test))"
   ]
  },
  {
   "cell_type": "code",
   "execution_count": 86,
   "metadata": {},
   "outputs": [],
   "source": [
    "# If we lower the depth of the tree we markedly lower performance. "
   ]
  }
 ],
 "metadata": {
  "kernelspec": {
   "display_name": "Python 3",
   "language": "python",
   "name": "python3"
  },
  "language_info": {
   "codemirror_mode": {
    "name": "ipython",
    "version": 3
   },
   "file_extension": ".py",
   "mimetype": "text/x-python",
   "name": "python",
   "nbconvert_exporter": "python",
   "pygments_lexer": "ipython3",
   "version": "3.6.4"
  }
 },
 "nbformat": 4,
 "nbformat_minor": 2
}
