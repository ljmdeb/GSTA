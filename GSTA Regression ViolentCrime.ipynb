{
 "cells": [
  {
   "cell_type": "code",
   "execution_count": 1,
   "metadata": {},
   "outputs": [],
   "source": [
    "#Replacing a Black-box model by a Global Single Tree Approximation\n",
    "#A regression case - Violent Crime\n",
    "#Laurent Deborde 2019 march 24th"
   ]
  },
  {
   "cell_type": "code",
   "execution_count": 2,
   "metadata": {},
   "outputs": [],
   "source": [
    "import numpy as np\n",
    "import pandas as pd\n",
    "import seaborn as sns\n",
    "import matplotlib.pyplot as plt\n",
    "from sklearn.model_selection import cross_val_score\n",
    "import random as rd"
   ]
  },
  {
   "cell_type": "code",
   "execution_count": 1,
   "metadata": {},
   "outputs": [],
   "source": [
    "# load the data (violent crime usual data less crime stats + columns names)\n",
    "# data source is http://archive.ics.uci.edu/ml/datasets/communities+and+crime\n",
    "#Creator: Michael Redmond (redmond '@' lasalle.edu); Computer Science; La Salle University; Philadelphia, PA, 19141, USA \n",
    "#-- culled from 1990 US Census, 1995 US FBI Uniform Crime Report, 1990 US Law Enforcement Management and Administrative Statistics Survey, available from ICPSR at U of Michigan. \n",
    "#-- Donor: Michael Redmond (redmond '@' lasalle.edu); Computer Science; La Salle University; Philadelphia, PA, 19141, USA \n",
    "#-- Date: July 2009"
   ]
  },
  {
   "cell_type": "code",
   "execution_count": 17,
   "metadata": {},
   "outputs": [],
   "source": [
    "d=pd.read_excel('VCrimeU_C.xls')"
   ]
  },
  {
   "cell_type": "code",
   "execution_count": 18,
   "metadata": {
    "scrolled": true
   },
   "outputs": [
    {
     "name": "stdout",
     "output_type": "stream",
     "text": [
      "<class 'pandas.core.frame.DataFrame'>\n",
      "RangeIndex: 2215 entries, 0 to 2214\n",
      "Columns: 127 entries, communityname to nonViolPerPop\n",
      "dtypes: float64(110), int64(16), object(1)\n",
      "memory usage: 2.1+ MB\n"
     ]
    }
   ],
   "source": [
    "d.info()"
   ]
  },
  {
   "cell_type": "code",
   "execution_count": 19,
   "metadata": {},
   "outputs": [
    {
     "data": {
      "text/plain": [
       "Index(['communityname', 'population', 'householdsize', 'racepctblack',\n",
       "       'racePctWhite', 'racePctAsian', 'racePctHisp', 'agePct12t21',\n",
       "       'agePct12t29', 'agePct16t24',\n",
       "       ...\n",
       "       'PopDens', 'PctUsePubTrans', 'PolicCars', 'PolicOperBudg',\n",
       "       'LemasPctPolicOnPatr', 'LemasGangUnitDeploy', 'LemasPctOfficDrugUn',\n",
       "       'PolicBudgPerPop', 'ViolentCrimesPerPop', 'nonViolPerPop'],\n",
       "      dtype='object', length=127)"
      ]
     },
     "execution_count": 19,
     "metadata": {},
     "output_type": "execute_result"
    }
   ],
   "source": [
    "d.columns"
   ]
  },
  {
   "cell_type": "code",
   "execution_count": 20,
   "metadata": {},
   "outputs": [
    {
     "data": {
      "text/html": [
       "<div>\n",
       "<style scoped>\n",
       "    .dataframe tbody tr th:only-of-type {\n",
       "        vertical-align: middle;\n",
       "    }\n",
       "\n",
       "    .dataframe tbody tr th {\n",
       "        vertical-align: top;\n",
       "    }\n",
       "\n",
       "    .dataframe thead th {\n",
       "        text-align: right;\n",
       "    }\n",
       "</style>\n",
       "<table border=\"1\" class=\"dataframe\">\n",
       "  <thead>\n",
       "    <tr style=\"text-align: right;\">\n",
       "      <th></th>\n",
       "      <th>population</th>\n",
       "      <th>householdsize</th>\n",
       "      <th>racepctblack</th>\n",
       "      <th>racePctWhite</th>\n",
       "      <th>racePctAsian</th>\n",
       "      <th>racePctHisp</th>\n",
       "      <th>agePct12t21</th>\n",
       "      <th>agePct12t29</th>\n",
       "      <th>agePct16t24</th>\n",
       "      <th>agePct65up</th>\n",
       "      <th>...</th>\n",
       "      <th>PopDens</th>\n",
       "      <th>PctUsePubTrans</th>\n",
       "      <th>PolicCars</th>\n",
       "      <th>PolicOperBudg</th>\n",
       "      <th>LemasPctPolicOnPatr</th>\n",
       "      <th>LemasGangUnitDeploy</th>\n",
       "      <th>LemasPctOfficDrugUn</th>\n",
       "      <th>PolicBudgPerPop</th>\n",
       "      <th>ViolentCrimesPerPop</th>\n",
       "      <th>nonViolPerPop</th>\n",
       "    </tr>\n",
       "  </thead>\n",
       "  <tbody>\n",
       "    <tr>\n",
       "      <th>count</th>\n",
       "      <td>2.215000e+03</td>\n",
       "      <td>2205.000000</td>\n",
       "      <td>2193.000000</td>\n",
       "      <td>2215.000000</td>\n",
       "      <td>2197.000000</td>\n",
       "      <td>2200.000000</td>\n",
       "      <td>2215.000000</td>\n",
       "      <td>2215.000000</td>\n",
       "      <td>2212.000000</td>\n",
       "      <td>2207.000000</td>\n",
       "      <td>...</td>\n",
       "      <td>2215.000000</td>\n",
       "      <td>2062.000000</td>\n",
       "      <td>343.000000</td>\n",
       "      <td>3.430000e+02</td>\n",
       "      <td>343.000000</td>\n",
       "      <td>92.0</td>\n",
       "      <td>324.000000</td>\n",
       "      <td>3.430000e+02</td>\n",
       "      <td>1993.000000</td>\n",
       "      <td>2118.000000</td>\n",
       "    </tr>\n",
       "    <tr>\n",
       "      <th>mean</th>\n",
       "      <td>5.311798e+04</td>\n",
       "      <td>2.706907</td>\n",
       "      <td>9.402303</td>\n",
       "      <td>83.979819</td>\n",
       "      <td>2.668411</td>\n",
       "      <td>7.983927</td>\n",
       "      <td>14.445837</td>\n",
       "      <td>27.644840</td>\n",
       "      <td>13.982794</td>\n",
       "      <td>11.857096</td>\n",
       "      <td>...</td>\n",
       "      <td>2783.835034</td>\n",
       "      <td>3.244952</td>\n",
       "      <td>185.478134</td>\n",
       "      <td>3.217602e+07</td>\n",
       "      <td>87.130933</td>\n",
       "      <td>10.0</td>\n",
       "      <td>6.568086</td>\n",
       "      <td>1.535779e+05</td>\n",
       "      <td>589.374496</td>\n",
       "      <td>4908.241804</td>\n",
       "    </tr>\n",
       "    <tr>\n",
       "      <th>std</th>\n",
       "      <td>2.046203e+05</td>\n",
       "      <td>0.333732</td>\n",
       "      <td>14.300521</td>\n",
       "      <td>16.419080</td>\n",
       "      <td>4.487139</td>\n",
       "      <td>14.632392</td>\n",
       "      <td>4.518623</td>\n",
       "      <td>6.181517</td>\n",
       "      <td>5.971151</td>\n",
       "      <td>4.771670</td>\n",
       "      <td>...</td>\n",
       "      <td>2828.993341</td>\n",
       "      <td>5.024095</td>\n",
       "      <td>318.542834</td>\n",
       "      <td>1.104566e+08</td>\n",
       "      <td>10.349612</td>\n",
       "      <td>0.0</td>\n",
       "      <td>4.397051</td>\n",
       "      <td>2.030409e+05</td>\n",
       "      <td>614.797082</td>\n",
       "      <td>2739.708901</td>\n",
       "    </tr>\n",
       "    <tr>\n",
       "      <th>min</th>\n",
       "      <td>1.000500e+04</td>\n",
       "      <td>1.600000</td>\n",
       "      <td>0.010000</td>\n",
       "      <td>2.680000</td>\n",
       "      <td>0.030000</td>\n",
       "      <td>0.120000</td>\n",
       "      <td>4.580000</td>\n",
       "      <td>9.380000</td>\n",
       "      <td>4.640000</td>\n",
       "      <td>1.660000</td>\n",
       "      <td>...</td>\n",
       "      <td>10.000000</td>\n",
       "      <td>0.020000</td>\n",
       "      <td>20.000000</td>\n",
       "      <td>2.380215e+06</td>\n",
       "      <td>10.850000</td>\n",
       "      <td>10.0</td>\n",
       "      <td>0.440000</td>\n",
       "      <td>1.526040e+04</td>\n",
       "      <td>5.350000</td>\n",
       "      <td>116.790000</td>\n",
       "    </tr>\n",
       "    <tr>\n",
       "      <th>25%</th>\n",
       "      <td>1.436600e+04</td>\n",
       "      <td>2.500000</td>\n",
       "      <td>0.850000</td>\n",
       "      <td>76.320000</td>\n",
       "      <td>0.610000</td>\n",
       "      <td>0.920000</td>\n",
       "      <td>12.250000</td>\n",
       "      <td>24.415000</td>\n",
       "      <td>11.320000</td>\n",
       "      <td>8.785000</td>\n",
       "      <td>...</td>\n",
       "      <td>1181.900000</td>\n",
       "      <td>0.490000</td>\n",
       "      <td>54.000000</td>\n",
       "      <td>7.275060e+06</td>\n",
       "      <td>84.295000</td>\n",
       "      <td>10.0</td>\n",
       "      <td>4.010000</td>\n",
       "      <td>8.809435e+04</td>\n",
       "      <td>161.730000</td>\n",
       "      <td>2918.070000</td>\n",
       "    </tr>\n",
       "    <tr>\n",
       "      <th>50%</th>\n",
       "      <td>2.279200e+04</td>\n",
       "      <td>2.650000</td>\n",
       "      <td>2.880000</td>\n",
       "      <td>90.350000</td>\n",
       "      <td>1.230000</td>\n",
       "      <td>2.185000</td>\n",
       "      <td>13.620000</td>\n",
       "      <td>26.780000</td>\n",
       "      <td>12.550000</td>\n",
       "      <td>11.760000</td>\n",
       "      <td>...</td>\n",
       "      <td>2027.300000</td>\n",
       "      <td>1.390000</td>\n",
       "      <td>86.000000</td>\n",
       "      <td>1.116411e+07</td>\n",
       "      <td>89.580000</td>\n",
       "      <td>10.0</td>\n",
       "      <td>5.600000</td>\n",
       "      <td>1.145820e+05</td>\n",
       "      <td>374.070000</td>\n",
       "      <td>4425.450000</td>\n",
       "    </tr>\n",
       "    <tr>\n",
       "      <th>75%</th>\n",
       "      <td>4.302400e+04</td>\n",
       "      <td>2.840000</td>\n",
       "      <td>11.430000</td>\n",
       "      <td>96.225000</td>\n",
       "      <td>2.660000</td>\n",
       "      <td>7.880000</td>\n",
       "      <td>15.360000</td>\n",
       "      <td>29.205000</td>\n",
       "      <td>14.350000</td>\n",
       "      <td>14.420000</td>\n",
       "      <td>...</td>\n",
       "      <td>3321.700000</td>\n",
       "      <td>3.560000</td>\n",
       "      <td>189.500000</td>\n",
       "      <td>2.014754e+07</td>\n",
       "      <td>93.200000</td>\n",
       "      <td>10.0</td>\n",
       "      <td>7.870000</td>\n",
       "      <td>1.556557e+05</td>\n",
       "      <td>794.410000</td>\n",
       "      <td>6229.280000</td>\n",
       "    </tr>\n",
       "    <tr>\n",
       "      <th>max</th>\n",
       "      <td>7.322564e+06</td>\n",
       "      <td>5.280000</td>\n",
       "      <td>96.670000</td>\n",
       "      <td>99.630000</td>\n",
       "      <td>57.460000</td>\n",
       "      <td>95.290000</td>\n",
       "      <td>54.400000</td>\n",
       "      <td>70.510000</td>\n",
       "      <td>63.620000</td>\n",
       "      <td>52.770000</td>\n",
       "      <td>...</td>\n",
       "      <td>44229.900000</td>\n",
       "      <td>54.330000</td>\n",
       "      <td>3187.000000</td>\n",
       "      <td>1.617293e+09</td>\n",
       "      <td>99.940000</td>\n",
       "      <td>10.0</td>\n",
       "      <td>48.440000</td>\n",
       "      <td>2.422367e+06</td>\n",
       "      <td>4877.060000</td>\n",
       "      <td>27119.760000</td>\n",
       "    </tr>\n",
       "  </tbody>\n",
       "</table>\n",
       "<p>8 rows × 126 columns</p>\n",
       "</div>"
      ],
      "text/plain": [
       "         population  householdsize  racepctblack  racePctWhite  racePctAsian  \\\n",
       "count  2.215000e+03    2205.000000   2193.000000   2215.000000   2197.000000   \n",
       "mean   5.311798e+04       2.706907      9.402303     83.979819      2.668411   \n",
       "std    2.046203e+05       0.333732     14.300521     16.419080      4.487139   \n",
       "min    1.000500e+04       1.600000      0.010000      2.680000      0.030000   \n",
       "25%    1.436600e+04       2.500000      0.850000     76.320000      0.610000   \n",
       "50%    2.279200e+04       2.650000      2.880000     90.350000      1.230000   \n",
       "75%    4.302400e+04       2.840000     11.430000     96.225000      2.660000   \n",
       "max    7.322564e+06       5.280000     96.670000     99.630000     57.460000   \n",
       "\n",
       "       racePctHisp  agePct12t21  agePct12t29  agePct16t24   agePct65up  \\\n",
       "count  2200.000000  2215.000000  2215.000000  2212.000000  2207.000000   \n",
       "mean      7.983927    14.445837    27.644840    13.982794    11.857096   \n",
       "std      14.632392     4.518623     6.181517     5.971151     4.771670   \n",
       "min       0.120000     4.580000     9.380000     4.640000     1.660000   \n",
       "25%       0.920000    12.250000    24.415000    11.320000     8.785000   \n",
       "50%       2.185000    13.620000    26.780000    12.550000    11.760000   \n",
       "75%       7.880000    15.360000    29.205000    14.350000    14.420000   \n",
       "max      95.290000    54.400000    70.510000    63.620000    52.770000   \n",
       "\n",
       "           ...             PopDens  PctUsePubTrans    PolicCars  \\\n",
       "count      ...         2215.000000     2062.000000   343.000000   \n",
       "mean       ...         2783.835034        3.244952   185.478134   \n",
       "std        ...         2828.993341        5.024095   318.542834   \n",
       "min        ...           10.000000        0.020000    20.000000   \n",
       "25%        ...         1181.900000        0.490000    54.000000   \n",
       "50%        ...         2027.300000        1.390000    86.000000   \n",
       "75%        ...         3321.700000        3.560000   189.500000   \n",
       "max        ...        44229.900000       54.330000  3187.000000   \n",
       "\n",
       "       PolicOperBudg  LemasPctPolicOnPatr  LemasGangUnitDeploy  \\\n",
       "count   3.430000e+02           343.000000                 92.0   \n",
       "mean    3.217602e+07            87.130933                 10.0   \n",
       "std     1.104566e+08            10.349612                  0.0   \n",
       "min     2.380215e+06            10.850000                 10.0   \n",
       "25%     7.275060e+06            84.295000                 10.0   \n",
       "50%     1.116411e+07            89.580000                 10.0   \n",
       "75%     2.014754e+07            93.200000                 10.0   \n",
       "max     1.617293e+09            99.940000                 10.0   \n",
       "\n",
       "       LemasPctOfficDrugUn  PolicBudgPerPop  ViolentCrimesPerPop  \\\n",
       "count           324.000000     3.430000e+02          1993.000000   \n",
       "mean              6.568086     1.535779e+05           589.374496   \n",
       "std               4.397051     2.030409e+05           614.797082   \n",
       "min               0.440000     1.526040e+04             5.350000   \n",
       "25%               4.010000     8.809435e+04           161.730000   \n",
       "50%               5.600000     1.145820e+05           374.070000   \n",
       "75%               7.870000     1.556557e+05           794.410000   \n",
       "max              48.440000     2.422367e+06          4877.060000   \n",
       "\n",
       "       nonViolPerPop  \n",
       "count    2118.000000  \n",
       "mean     4908.241804  \n",
       "std      2739.708901  \n",
       "min       116.790000  \n",
       "25%      2918.070000  \n",
       "50%      4425.450000  \n",
       "75%      6229.280000  \n",
       "max     27119.760000  \n",
       "\n",
       "[8 rows x 126 columns]"
      ]
     },
     "execution_count": 20,
     "metadata": {},
     "output_type": "execute_result"
    }
   ],
   "source": [
    "d.describe()"
   ]
  },
  {
   "cell_type": "code",
   "execution_count": 21,
   "metadata": {},
   "outputs": [],
   "source": [
    "#we won't use the nonViolentCrime column \n",
    "d=d.drop('nonViolPerPop',axis=1)"
   ]
  },
  {
   "cell_type": "code",
   "execution_count": 22,
   "metadata": {},
   "outputs": [],
   "source": [
    "#drop points for which the target is unknown\n",
    "d=d.dropna(subset={'ViolentCrimesPerPop'})"
   ]
  },
  {
   "cell_type": "code",
   "execution_count": 25,
   "metadata": {},
   "outputs": [],
   "source": [
    "#for the sake of simplicity we will drop line and columns with too many missing values "
   ]
  },
  {
   "cell_type": "code",
   "execution_count": 23,
   "metadata": {},
   "outputs": [],
   "source": [
    "#drop community name (not an index as its repeated)\n",
    "d=d.drop('communityname',axis=1)"
   ]
  },
  {
   "cell_type": "code",
   "execution_count": 24,
   "metadata": {},
   "outputs": [],
   "source": [
    "# drop columns with too many missing values\n",
    "d=d.drop('numbUrban',axis=1)\n",
    "d=d.drop('pctUrban',axis=1)\n",
    "d1=d\n",
    "for colonne in d.columns:\n",
    "    if d[colonne].isnull().sum() > 1000:\n",
    "        d1=d1.drop(colonne,axis=1)"
   ]
  },
  {
   "cell_type": "code",
   "execution_count": 26,
   "metadata": {},
   "outputs": [],
   "source": [
    "#for the sake drop lines with missing values \n",
    "d1=d1.dropna()"
   ]
  },
  {
   "cell_type": "code",
   "execution_count": 28,
   "metadata": {},
   "outputs": [
    {
     "data": {
      "text/html": [
       "<div>\n",
       "<style scoped>\n",
       "    .dataframe tbody tr th:only-of-type {\n",
       "        vertical-align: middle;\n",
       "    }\n",
       "\n",
       "    .dataframe tbody tr th {\n",
       "        vertical-align: top;\n",
       "    }\n",
       "\n",
       "    .dataframe thead th {\n",
       "        text-align: right;\n",
       "    }\n",
       "</style>\n",
       "<table border=\"1\" class=\"dataframe\">\n",
       "  <thead>\n",
       "    <tr style=\"text-align: right;\">\n",
       "      <th></th>\n",
       "      <th>population</th>\n",
       "      <th>householdsize</th>\n",
       "      <th>racepctblack</th>\n",
       "      <th>racePctWhite</th>\n",
       "      <th>racePctAsian</th>\n",
       "      <th>racePctHisp</th>\n",
       "      <th>agePct12t21</th>\n",
       "      <th>agePct12t29</th>\n",
       "      <th>agePct16t24</th>\n",
       "      <th>agePct65up</th>\n",
       "      <th>...</th>\n",
       "      <th>MedOwnCostPctIncNoMt</th>\n",
       "      <th>PctForeignBorn</th>\n",
       "      <th>PctBornSameState</th>\n",
       "      <th>PctSameHouse85</th>\n",
       "      <th>PctSameCity85</th>\n",
       "      <th>PctSameState85</th>\n",
       "      <th>LandArea</th>\n",
       "      <th>PopDens</th>\n",
       "      <th>PctUsePubTrans</th>\n",
       "      <th>ViolentCrimesPerPop</th>\n",
       "    </tr>\n",
       "  </thead>\n",
       "  <tbody>\n",
       "    <tr>\n",
       "      <th>count</th>\n",
       "      <td>1.050000e+03</td>\n",
       "      <td>1050.000000</td>\n",
       "      <td>1050.000000</td>\n",
       "      <td>1050.000000</td>\n",
       "      <td>1050.000000</td>\n",
       "      <td>1050.000000</td>\n",
       "      <td>1050.000000</td>\n",
       "      <td>1050.000000</td>\n",
       "      <td>1050.000000</td>\n",
       "      <td>1050.000000</td>\n",
       "      <td>...</td>\n",
       "      <td>1050.000000</td>\n",
       "      <td>1050.000000</td>\n",
       "      <td>1050.00000</td>\n",
       "      <td>1050.000000</td>\n",
       "      <td>1050.000000</td>\n",
       "      <td>1050.000000</td>\n",
       "      <td>1050.000000</td>\n",
       "      <td>1050.000000</td>\n",
       "      <td>1050.000000</td>\n",
       "      <td>1050.000000</td>\n",
       "    </tr>\n",
       "    <tr>\n",
       "      <th>mean</th>\n",
       "      <td>6.408722e+04</td>\n",
       "      <td>2.703981</td>\n",
       "      <td>11.220505</td>\n",
       "      <td>80.778552</td>\n",
       "      <td>3.023848</td>\n",
       "      <td>9.593867</td>\n",
       "      <td>14.502476</td>\n",
       "      <td>28.288019</td>\n",
       "      <td>14.313457</td>\n",
       "      <td>11.577676</td>\n",
       "      <td>...</td>\n",
       "      <td>13.026095</td>\n",
       "      <td>8.292000</td>\n",
       "      <td>58.64019</td>\n",
       "      <td>49.441638</td>\n",
       "      <td>76.080390</td>\n",
       "      <td>86.820752</td>\n",
       "      <td>36.714667</td>\n",
       "      <td>3010.049143</td>\n",
       "      <td>3.422019</td>\n",
       "      <td>687.176371</td>\n",
       "    </tr>\n",
       "    <tr>\n",
       "      <th>std</th>\n",
       "      <td>1.522935e+05</td>\n",
       "      <td>0.337810</td>\n",
       "      <td>15.086994</td>\n",
       "      <td>17.167271</td>\n",
       "      <td>4.748110</td>\n",
       "      <td>15.156706</td>\n",
       "      <td>4.131349</td>\n",
       "      <td>5.821422</td>\n",
       "      <td>5.561958</td>\n",
       "      <td>4.689792</td>\n",
       "      <td>...</td>\n",
       "      <td>1.478581</td>\n",
       "      <td>9.081596</td>\n",
       "      <td>16.75484</td>\n",
       "      <td>10.155655</td>\n",
       "      <td>10.530017</td>\n",
       "      <td>7.766938</td>\n",
       "      <td>155.324683</td>\n",
       "      <td>3142.959621</td>\n",
       "      <td>5.374771</td>\n",
       "      <td>658.052239</td>\n",
       "    </tr>\n",
       "    <tr>\n",
       "      <th>min</th>\n",
       "      <td>1.012900e+04</td>\n",
       "      <td>1.880000</td>\n",
       "      <td>0.100000</td>\n",
       "      <td>7.210000</td>\n",
       "      <td>0.120000</td>\n",
       "      <td>0.260000</td>\n",
       "      <td>5.290000</td>\n",
       "      <td>10.550000</td>\n",
       "      <td>4.930000</td>\n",
       "      <td>1.660000</td>\n",
       "      <td>...</td>\n",
       "      <td>10.100000</td>\n",
       "      <td>0.410000</td>\n",
       "      <td>7.85000</td>\n",
       "      <td>15.100000</td>\n",
       "      <td>30.330000</td>\n",
       "      <td>40.400000</td>\n",
       "      <td>0.900000</td>\n",
       "      <td>10.000000</td>\n",
       "      <td>0.020000</td>\n",
       "      <td>5.350000</td>\n",
       "    </tr>\n",
       "    <tr>\n",
       "      <th>25%</th>\n",
       "      <td>1.921400e+04</td>\n",
       "      <td>2.500000</td>\n",
       "      <td>1.225000</td>\n",
       "      <td>71.522500</td>\n",
       "      <td>0.750000</td>\n",
       "      <td>1.110000</td>\n",
       "      <td>12.390000</td>\n",
       "      <td>25.180000</td>\n",
       "      <td>11.682500</td>\n",
       "      <td>8.562500</td>\n",
       "      <td>...</td>\n",
       "      <td>11.900000</td>\n",
       "      <td>2.492500</td>\n",
       "      <td>46.75250</td>\n",
       "      <td>42.510000</td>\n",
       "      <td>71.175000</td>\n",
       "      <td>83.547500</td>\n",
       "      <td>9.100000</td>\n",
       "      <td>1315.250000</td>\n",
       "      <td>0.490000</td>\n",
       "      <td>227.622500</td>\n",
       "    </tr>\n",
       "    <tr>\n",
       "      <th>50%</th>\n",
       "      <td>3.099400e+04</td>\n",
       "      <td>2.640000</td>\n",
       "      <td>4.580000</td>\n",
       "      <td>86.445000</td>\n",
       "      <td>1.425000</td>\n",
       "      <td>3.085000</td>\n",
       "      <td>13.760000</td>\n",
       "      <td>27.315000</td>\n",
       "      <td>12.900000</td>\n",
       "      <td>11.500000</td>\n",
       "      <td>...</td>\n",
       "      <td>12.800000</td>\n",
       "      <td>4.960000</td>\n",
       "      <td>60.14500</td>\n",
       "      <td>49.850000</td>\n",
       "      <td>77.865000</td>\n",
       "      <td>88.920000</td>\n",
       "      <td>17.350000</td>\n",
       "      <td>2169.600000</td>\n",
       "      <td>1.465000</td>\n",
       "      <td>462.140000</td>\n",
       "    </tr>\n",
       "    <tr>\n",
       "      <th>75%</th>\n",
       "      <td>5.691550e+04</td>\n",
       "      <td>2.830000</td>\n",
       "      <td>15.352500</td>\n",
       "      <td>94.417500</td>\n",
       "      <td>3.085000</td>\n",
       "      <td>10.865000</td>\n",
       "      <td>15.470000</td>\n",
       "      <td>29.810000</td>\n",
       "      <td>14.895000</td>\n",
       "      <td>14.117500</td>\n",
       "      <td>...</td>\n",
       "      <td>13.700000</td>\n",
       "      <td>10.547500</td>\n",
       "      <td>72.47750</td>\n",
       "      <td>56.500000</td>\n",
       "      <td>83.370000</td>\n",
       "      <td>92.127500</td>\n",
       "      <td>31.150000</td>\n",
       "      <td>3398.425000</td>\n",
       "      <td>3.650000</td>\n",
       "      <td>919.220000</td>\n",
       "    </tr>\n",
       "    <tr>\n",
       "      <th>max</th>\n",
       "      <td>3.485398e+06</td>\n",
       "      <td>5.280000</td>\n",
       "      <td>89.950000</td>\n",
       "      <td>99.280000</td>\n",
       "      <td>45.190000</td>\n",
       "      <td>93.870000</td>\n",
       "      <td>50.800000</td>\n",
       "      <td>70.510000</td>\n",
       "      <td>63.620000</td>\n",
       "      <td>52.770000</td>\n",
       "      <td>...</td>\n",
       "      <td>23.400000</td>\n",
       "      <td>59.720000</td>\n",
       "      <td>91.12000</td>\n",
       "      <td>75.700000</td>\n",
       "      <td>95.810000</td>\n",
       "      <td>97.730000</td>\n",
       "      <td>3569.800000</td>\n",
       "      <td>44229.900000</td>\n",
       "      <td>52.590000</td>\n",
       "      <td>4026.590000</td>\n",
       "    </tr>\n",
       "  </tbody>\n",
       "</table>\n",
       "<p>8 rows × 97 columns</p>\n",
       "</div>"
      ],
      "text/plain": [
       "         population  householdsize  racepctblack  racePctWhite  racePctAsian  \\\n",
       "count  1.050000e+03    1050.000000   1050.000000   1050.000000   1050.000000   \n",
       "mean   6.408722e+04       2.703981     11.220505     80.778552      3.023848   \n",
       "std    1.522935e+05       0.337810     15.086994     17.167271      4.748110   \n",
       "min    1.012900e+04       1.880000      0.100000      7.210000      0.120000   \n",
       "25%    1.921400e+04       2.500000      1.225000     71.522500      0.750000   \n",
       "50%    3.099400e+04       2.640000      4.580000     86.445000      1.425000   \n",
       "75%    5.691550e+04       2.830000     15.352500     94.417500      3.085000   \n",
       "max    3.485398e+06       5.280000     89.950000     99.280000     45.190000   \n",
       "\n",
       "       racePctHisp  agePct12t21  agePct12t29  agePct16t24   agePct65up  \\\n",
       "count  1050.000000  1050.000000  1050.000000  1050.000000  1050.000000   \n",
       "mean      9.593867    14.502476    28.288019    14.313457    11.577676   \n",
       "std      15.156706     4.131349     5.821422     5.561958     4.689792   \n",
       "min       0.260000     5.290000    10.550000     4.930000     1.660000   \n",
       "25%       1.110000    12.390000    25.180000    11.682500     8.562500   \n",
       "50%       3.085000    13.760000    27.315000    12.900000    11.500000   \n",
       "75%      10.865000    15.470000    29.810000    14.895000    14.117500   \n",
       "max      93.870000    50.800000    70.510000    63.620000    52.770000   \n",
       "\n",
       "              ...           MedOwnCostPctIncNoMt  PctForeignBorn  \\\n",
       "count         ...                    1050.000000     1050.000000   \n",
       "mean          ...                      13.026095        8.292000   \n",
       "std           ...                       1.478581        9.081596   \n",
       "min           ...                      10.100000        0.410000   \n",
       "25%           ...                      11.900000        2.492500   \n",
       "50%           ...                      12.800000        4.960000   \n",
       "75%           ...                      13.700000       10.547500   \n",
       "max           ...                      23.400000       59.720000   \n",
       "\n",
       "       PctBornSameState  PctSameHouse85  PctSameCity85  PctSameState85  \\\n",
       "count        1050.00000     1050.000000    1050.000000     1050.000000   \n",
       "mean           58.64019       49.441638      76.080390       86.820752   \n",
       "std            16.75484       10.155655      10.530017        7.766938   \n",
       "min             7.85000       15.100000      30.330000       40.400000   \n",
       "25%            46.75250       42.510000      71.175000       83.547500   \n",
       "50%            60.14500       49.850000      77.865000       88.920000   \n",
       "75%            72.47750       56.500000      83.370000       92.127500   \n",
       "max            91.12000       75.700000      95.810000       97.730000   \n",
       "\n",
       "          LandArea       PopDens  PctUsePubTrans  ViolentCrimesPerPop  \n",
       "count  1050.000000   1050.000000     1050.000000          1050.000000  \n",
       "mean     36.714667   3010.049143        3.422019           687.176371  \n",
       "std     155.324683   3142.959621        5.374771           658.052239  \n",
       "min       0.900000     10.000000        0.020000             5.350000  \n",
       "25%       9.100000   1315.250000        0.490000           227.622500  \n",
       "50%      17.350000   2169.600000        1.465000           462.140000  \n",
       "75%      31.150000   3398.425000        3.650000           919.220000  \n",
       "max    3569.800000  44229.900000       52.590000          4026.590000  \n",
       "\n",
       "[8 rows x 97 columns]"
      ]
     },
     "execution_count": 28,
     "metadata": {},
     "output_type": "execute_result"
    }
   ],
   "source": [
    "d1.describe()"
   ]
  },
  {
   "cell_type": "code",
   "execution_count": 29,
   "metadata": {},
   "outputs": [
    {
     "data": {
      "text/plain": [
       "<matplotlib.axes._subplots.AxesSubplot at 0x14df213cba8>"
      ]
     },
     "execution_count": 29,
     "metadata": {},
     "output_type": "execute_result"
    },
    {
     "data": {
      "image/png": "[encoded data removed]",
      "text/plain": [
       "<matplotlib.figure.Figure at 0x14df213c7f0>"
      ]
     },
     "metadata": {},
     "output_type": "display_data"
    }
   ],
   "source": [
    "d1['ViolentCrimesPerPop'].hist()"
   ]
  },
  {
   "cell_type": "code",
   "execution_count": 30,
   "metadata": {},
   "outputs": [],
   "source": [
    "#separate the target and spilt between train and test\n",
    "y=d1['ViolentCrimesPerPop']\n",
    "X=d1.drop('ViolentCrimesPerPop',axis=1)\n",
    "from sklearn.model_selection import train_test_split\n",
    "X_train, X_test, y_train, y_test = train_test_split(X, y, random_state=42)"
   ]
  },
  {
   "cell_type": "markdown",
   "metadata": {},
   "source": [
    "## let's try to find a simple tree model"
   ]
  },
  {
   "cell_type": "code",
   "execution_count": 35,
   "metadata": {},
   "outputs": [],
   "source": [
    "param_grid = {'max_depth': range(1,15)}\n",
    "from sklearn.tree import DecisionTreeRegressor\n",
    "from sklearn.model_selection import GridSearchCV"
   ]
  },
  {
   "cell_type": "code",
   "execution_count": 36,
   "metadata": {},
   "outputs": [
    {
     "name": "stdout",
     "output_type": "stream",
     "text": [
      "Best parameters: {'max_depth': 3}\n",
      "Best cross-validation score: 0.47\n",
      "Test set score: 0.45\n"
     ]
    }
   ],
   "source": [
    "grid_search = GridSearchCV(DecisionTreeRegressor(), param_grid, cv=5,\n",
    "                          return_train_score=True)\n",
    "grid_search.fit(X_train, y_train)\n",
    "print(\"Best parameters: {}\".format(grid_search.best_params_))\n",
    "print(\"Best cross-validation score: {:.2f}\".format(grid_search.best_score_))\n",
    "print(\"Test set score: {:.2f}\".format(grid_search.score(X_test, y_test)))"
   ]
  },
  {
   "cell_type": "code",
   "execution_count": 37,
   "metadata": {},
   "outputs": [
    {
     "name": "stdout",
     "output_type": "stream",
     "text": [
      "for depth 3\n",
      "R2 on training set is 0.67\n",
      "R2 on test is 0.45\n"
     ]
    }
   ],
   "source": [
    "### fit that tree on the whole training set\n",
    "k=3\n",
    "tree = DecisionTreeRegressor(max_depth=k)\n",
    "tree.fit(X_train,y_train)\n",
    "R2_appr=tree.score(X_train,y_train)\n",
    "R2_test=tree.score(X_test,y_test)\n",
    "print('for depth',k)\n",
    "print(\"R2 on training set is {:.2f}\".format(R2_appr))\n",
    "print(\"R2 on test is {:.2f}\".format(R2_test))"
   ]
  },
  {
   "cell_type": "code",
   "execution_count": 38,
   "metadata": {},
   "outputs": [
    {
     "data": {
      "text/plain": [
       "<matplotlib.figure.Figure at 0x14df14d8f60>"
      ]
     },
     "metadata": {},
     "output_type": "display_data"
    },
    {
     "data": {
      "image/png": "[encoded data removed]",
      "text/plain": [
       "<matplotlib.figure.Figure at 0x14df0d572b0>"
      ]
     },
     "metadata": {},
     "output_type": "display_data"
    }
   ],
   "source": [
    "# adapted from Muller & Guido \n",
    "# https://github.com/amueller/introduction_to_ml_with_python/blob/master/02-supervised-learning.ipynb\n",
    "\n",
    "def plot_feature_importances(model, Frame):\n",
    "    plt.clf()\n",
    "    n_features=len(Frame.columns)\n",
    "    plt.figure(figsize=(15,15))\n",
    "    plt.barh(range(n_features), model.feature_importances_, align='center')\n",
    "    plt.yticks(np.arange(n_features), Frame.columns)\n",
    "    plt.xlabel(\"Feature importance\")\n",
    "    plt.ylabel(\"Feature\")\n",
    "    plt.ylim(-1, n_features)\n",
    "\n",
    "\n",
    "plot_feature_importances(tree,X_train)\n",
    "plt.show()  "
   ]
  },
  {
   "cell_type": "markdown",
   "metadata": {},
   "source": [
    "### Let's try a more complex model : Random forest"
   ]
  },
  {
   "cell_type": "markdown",
   "metadata": {},
   "source": [
    "### with default parameters"
   ]
  },
  {
   "cell_type": "code",
   "execution_count": 39,
   "metadata": {},
   "outputs": [
    {
     "data": {
      "text/plain": [
       "RandomForestRegressor(bootstrap=True, criterion='mse', max_depth=None,\n",
       "           max_features='auto', max_leaf_nodes=None,\n",
       "           min_impurity_decrease=0.0, min_impurity_split=None,\n",
       "           min_samples_leaf=1, min_samples_split=2,\n",
       "           min_weight_fraction_leaf=0.0, n_estimators=10, n_jobs=1,\n",
       "           oob_score=False, random_state=None, verbose=0, warm_start=False)"
      ]
     },
     "execution_count": 39,
     "metadata": {},
     "output_type": "execute_result"
    }
   ],
   "source": [
    "from sklearn.ensemble import RandomForestRegressor\n",
    "rdf = RandomForestRegressor()\n",
    "np.set_printoptions(precision=3)\n",
    "rdf.fit(X_train,y_train)"
   ]
  },
  {
   "cell_type": "code",
   "execution_count": 40,
   "metadata": {},
   "outputs": [
    {
     "name": "stdout",
     "output_type": "stream",
     "text": [
      "pour max_depth non limité le R2 in sample est de 0.92\n",
      "et le R2 out of sample est de 0.61\n"
     ]
    }
   ],
   "source": [
    "print(\"pour max_depth non limité le R2 in sample est de {:.2f}\".format(rdf.score(X_train,y_train)))\n",
    "print(\"et le R2 out of sample est de {:.2f}\".format(rdf.score(X_test,y_test)))"
   ]
  },
  {
   "cell_type": "markdown",
   "metadata": {},
   "source": [
    "### It's more efficient than the single tree. Let's also try Gradient Boosting"
   ]
  },
  {
   "cell_type": "markdown",
   "metadata": {},
   "source": [
    "### with default parameters"
   ]
  },
  {
   "cell_type": "code",
   "execution_count": 41,
   "metadata": {},
   "outputs": [],
   "source": [
    "from sklearn.ensemble import GradientBoostingRegressor"
   ]
  },
  {
   "cell_type": "code",
   "execution_count": 42,
   "metadata": {},
   "outputs": [
    {
     "name": "stdout",
     "output_type": "stream",
     "text": [
      "le R2 in sample est de 0.93\n",
      "et le R2 out of sample est de 0.65\n"
     ]
    }
   ],
   "source": [
    "gbr = GradientBoostingRegressor()\n",
    "np.set_printoptions(precision=3)\n",
    "gbr.fit(X_train,y_train)\n",
    "print(\"le R2 in sample est de {:.2f}\".format(gbr.score(X_train,y_train)))\n",
    "print(\"et le R2 out of sample est de {:.2f}\".format(gbr.score(X_test,y_test)))"
   ]
  },
  {
   "cell_type": "markdown",
   "metadata": {},
   "source": [
    "### Quite good. Let's suppose we are not allowed to use those complex black box models. We will try to use the knowledge gained from those models to build a more efficient single tree. In order to achieve that, we will generate additionnal unlabeled data. We will then use the black box as a oracle to label those data, and train a tree on the new data. "
   ]
  },
  {
   "cell_type": "markdown",
   "metadata": {},
   "source": [
    "### First let's genereate additionnal (unlabeled) data, similar to the data from the training set. We wil draw randomly those points from a multivariate gaussian distribution estimated on the training set (we didn't perform test to verify that the initial data distribution is indeed more or less gaussian. If our approach fail then we will have a look at the actual training set to decide another distribution to use). "
   ]
  },
  {
   "cell_type": "code",
   "execution_count": 43,
   "metadata": {},
   "outputs": [],
   "source": [
    "# estimate mean and variance on the training set\n",
    "echmean=X_train.mean(axis=0)\n",
    "echcov= X_train.cov()"
   ]
  },
  {
   "cell_type": "code",
   "execution_count": 45,
   "metadata": {},
   "outputs": [
    {
     "name": "stderr",
     "output_type": "stream",
     "text": [
      "D:\\Users\\pc\\Anaconda3\\lib\\site-packages\\ipykernel_launcher.py:2: RuntimeWarning: covariance is not positive-semidefinite.\n",
      "  \n"
     ]
    }
   ],
   "source": [
    "# randomly draw points according to a multivariate distribution with such parameters\n",
    "X_virt= np.random.multivariate_normal(echmean, echcov, 10000)"
   ]
  },
  {
   "cell_type": "code",
   "execution_count": 46,
   "metadata": {},
   "outputs": [
    {
     "name": "stdout",
     "output_type": "stream",
     "text": [
      "(10000, 96)\n"
     ]
    }
   ],
   "source": [
    "print(X_virt.shape)"
   ]
  },
  {
   "cell_type": "code",
   "execution_count": 47,
   "metadata": {},
   "outputs": [
    {
     "data": {
      "text/html": [
       "<div>\n",
       "<style scoped>\n",
       "    .dataframe tbody tr th:only-of-type {\n",
       "        vertical-align: middle;\n",
       "    }\n",
       "\n",
       "    .dataframe tbody tr th {\n",
       "        vertical-align: top;\n",
       "    }\n",
       "\n",
       "    .dataframe thead th {\n",
       "        text-align: right;\n",
       "    }\n",
       "</style>\n",
       "<table border=\"1\" class=\"dataframe\">\n",
       "  <thead>\n",
       "    <tr style=\"text-align: right;\">\n",
       "      <th></th>\n",
       "      <th>population</th>\n",
       "      <th>householdsize</th>\n",
       "      <th>racepctblack</th>\n",
       "      <th>racePctWhite</th>\n",
       "      <th>racePctAsian</th>\n",
       "      <th>racePctHisp</th>\n",
       "      <th>agePct12t21</th>\n",
       "      <th>agePct12t29</th>\n",
       "      <th>agePct16t24</th>\n",
       "      <th>agePct65up</th>\n",
       "      <th>...</th>\n",
       "      <th>MedOwnCostPctInc</th>\n",
       "      <th>MedOwnCostPctIncNoMt</th>\n",
       "      <th>PctForeignBorn</th>\n",
       "      <th>PctBornSameState</th>\n",
       "      <th>PctSameHouse85</th>\n",
       "      <th>PctSameCity85</th>\n",
       "      <th>PctSameState85</th>\n",
       "      <th>LandArea</th>\n",
       "      <th>PopDens</th>\n",
       "      <th>PctUsePubTrans</th>\n",
       "    </tr>\n",
       "  </thead>\n",
       "  <tbody>\n",
       "    <tr>\n",
       "      <th>count</th>\n",
       "      <td>10000.000000</td>\n",
       "      <td>10000.000000</td>\n",
       "      <td>10000.000000</td>\n",
       "      <td>10000.000000</td>\n",
       "      <td>10000.000000</td>\n",
       "      <td>10000.000000</td>\n",
       "      <td>10000.000000</td>\n",
       "      <td>10000.000000</td>\n",
       "      <td>10000.000000</td>\n",
       "      <td>10000.000000</td>\n",
       "      <td>...</td>\n",
       "      <td>10000.000000</td>\n",
       "      <td>10000.000000</td>\n",
       "      <td>10000.000000</td>\n",
       "      <td>10000.000000</td>\n",
       "      <td>10000.000000</td>\n",
       "      <td>10000.000000</td>\n",
       "      <td>10000.000000</td>\n",
       "      <td>10000.000000</td>\n",
       "      <td>10000.000000</td>\n",
       "      <td>10000.000000</td>\n",
       "    </tr>\n",
       "    <tr>\n",
       "      <th>mean</th>\n",
       "      <td>66573.315841</td>\n",
       "      <td>2.705809</td>\n",
       "      <td>11.515090</td>\n",
       "      <td>80.652278</td>\n",
       "      <td>3.089249</td>\n",
       "      <td>9.145916</td>\n",
       "      <td>14.495645</td>\n",
       "      <td>28.333771</td>\n",
       "      <td>14.356881</td>\n",
       "      <td>11.601413</td>\n",
       "      <td>...</td>\n",
       "      <td>21.393853</td>\n",
       "      <td>13.079326</td>\n",
       "      <td>8.139259</td>\n",
       "      <td>59.335357</td>\n",
       "      <td>49.848035</td>\n",
       "      <td>76.489240</td>\n",
       "      <td>87.066440</td>\n",
       "      <td>37.890711</td>\n",
       "      <td>2986.931696</td>\n",
       "      <td>3.564345</td>\n",
       "    </tr>\n",
       "    <tr>\n",
       "      <th>std</th>\n",
       "      <td>123058.080265</td>\n",
       "      <td>0.349186</td>\n",
       "      <td>15.059706</td>\n",
       "      <td>17.463788</td>\n",
       "      <td>4.986944</td>\n",
       "      <td>15.038292</td>\n",
       "      <td>4.366464</td>\n",
       "      <td>6.055458</td>\n",
       "      <td>5.864310</td>\n",
       "      <td>4.687370</td>\n",
       "      <td>...</td>\n",
       "      <td>2.893516</td>\n",
       "      <td>1.490324</td>\n",
       "      <td>8.990881</td>\n",
       "      <td>16.545429</td>\n",
       "      <td>10.246738</td>\n",
       "      <td>10.611036</td>\n",
       "      <td>7.624601</td>\n",
       "      <td>150.014370</td>\n",
       "      <td>2965.721943</td>\n",
       "      <td>5.494447</td>\n",
       "    </tr>\n",
       "    <tr>\n",
       "      <th>min</th>\n",
       "      <td>-429525.306596</td>\n",
       "      <td>1.250576</td>\n",
       "      <td>-44.415062</td>\n",
       "      <td>14.678449</td>\n",
       "      <td>-13.854879</td>\n",
       "      <td>-46.295642</td>\n",
       "      <td>-2.668181</td>\n",
       "      <td>3.621755</td>\n",
       "      <td>-8.754094</td>\n",
       "      <td>-7.983561</td>\n",
       "      <td>...</td>\n",
       "      <td>9.353743</td>\n",
       "      <td>8.137280</td>\n",
       "      <td>-26.280770</td>\n",
       "      <td>-6.830894</td>\n",
       "      <td>12.748081</td>\n",
       "      <td>34.869756</td>\n",
       "      <td>54.343077</td>\n",
       "      <td>-522.566887</td>\n",
       "      <td>-7949.431524</td>\n",
       "      <td>-16.343034</td>\n",
       "    </tr>\n",
       "    <tr>\n",
       "      <th>25%</th>\n",
       "      <td>-18758.394877</td>\n",
       "      <td>2.464767</td>\n",
       "      <td>1.730014</td>\n",
       "      <td>68.759663</td>\n",
       "      <td>-0.271134</td>\n",
       "      <td>-0.983208</td>\n",
       "      <td>11.526544</td>\n",
       "      <td>24.167869</td>\n",
       "      <td>10.357358</td>\n",
       "      <td>8.447661</td>\n",
       "      <td>...</td>\n",
       "      <td>19.478823</td>\n",
       "      <td>12.076508</td>\n",
       "      <td>2.056403</td>\n",
       "      <td>48.150934</td>\n",
       "      <td>43.055493</td>\n",
       "      <td>69.242789</td>\n",
       "      <td>81.966967</td>\n",
       "      <td>-63.445145</td>\n",
       "      <td>978.731437</td>\n",
       "      <td>-0.123268</td>\n",
       "    </tr>\n",
       "    <tr>\n",
       "      <th>50%</th>\n",
       "      <td>68218.221921</td>\n",
       "      <td>2.707760</td>\n",
       "      <td>11.536784</td>\n",
       "      <td>80.976489</td>\n",
       "      <td>3.035956</td>\n",
       "      <td>9.113696</td>\n",
       "      <td>14.513375</td>\n",
       "      <td>28.363664</td>\n",
       "      <td>14.345764</td>\n",
       "      <td>11.592319</td>\n",
       "      <td>...</td>\n",
       "      <td>21.391075</td>\n",
       "      <td>13.075078</td>\n",
       "      <td>8.076859</td>\n",
       "      <td>59.497296</td>\n",
       "      <td>49.844510</td>\n",
       "      <td>76.428443</td>\n",
       "      <td>87.028876</td>\n",
       "      <td>36.863548</td>\n",
       "      <td>2978.381372</td>\n",
       "      <td>3.587335</td>\n",
       "    </tr>\n",
       "    <tr>\n",
       "      <th>75%</th>\n",
       "      <td>151174.857221</td>\n",
       "      <td>2.942379</td>\n",
       "      <td>21.498220</td>\n",
       "      <td>92.112256</td>\n",
       "      <td>6.480872</td>\n",
       "      <td>19.229481</td>\n",
       "      <td>17.482827</td>\n",
       "      <td>32.393697</td>\n",
       "      <td>18.367032</td>\n",
       "      <td>14.784722</td>\n",
       "      <td>...</td>\n",
       "      <td>23.345506</td>\n",
       "      <td>14.076448</td>\n",
       "      <td>14.151000</td>\n",
       "      <td>70.445195</td>\n",
       "      <td>56.606227</td>\n",
       "      <td>83.655737</td>\n",
       "      <td>92.294077</td>\n",
       "      <td>139.728264</td>\n",
       "      <td>4929.300664</td>\n",
       "      <td>7.240451</td>\n",
       "    </tr>\n",
       "    <tr>\n",
       "      <th>max</th>\n",
       "      <td>518082.588944</td>\n",
       "      <td>4.058364</td>\n",
       "      <td>75.549478</td>\n",
       "      <td>144.192558</td>\n",
       "      <td>20.753612</td>\n",
       "      <td>71.572084</td>\n",
       "      <td>30.409016</td>\n",
       "      <td>52.656305</td>\n",
       "      <td>36.327834</td>\n",
       "      <td>29.684495</td>\n",
       "      <td>...</td>\n",
       "      <td>32.277046</td>\n",
       "      <td>20.187911</td>\n",
       "      <td>45.073471</td>\n",
       "      <td>115.125160</td>\n",
       "      <td>87.766202</td>\n",
       "      <td>118.673852</td>\n",
       "      <td>121.071668</td>\n",
       "      <td>641.299903</td>\n",
       "      <td>13811.609161</td>\n",
       "      <td>23.291841</td>\n",
       "    </tr>\n",
       "  </tbody>\n",
       "</table>\n",
       "<p>8 rows × 96 columns</p>\n",
       "</div>"
      ],
      "text/plain": [
       "          population  householdsize  racepctblack  racePctWhite  racePctAsian  \\\n",
       "count   10000.000000   10000.000000  10000.000000  10000.000000  10000.000000   \n",
       "mean    66573.315841       2.705809     11.515090     80.652278      3.089249   \n",
       "std    123058.080265       0.349186     15.059706     17.463788      4.986944   \n",
       "min   -429525.306596       1.250576    -44.415062     14.678449    -13.854879   \n",
       "25%    -18758.394877       2.464767      1.730014     68.759663     -0.271134   \n",
       "50%     68218.221921       2.707760     11.536784     80.976489      3.035956   \n",
       "75%    151174.857221       2.942379     21.498220     92.112256      6.480872   \n",
       "max    518082.588944       4.058364     75.549478    144.192558     20.753612   \n",
       "\n",
       "        racePctHisp   agePct12t21   agePct12t29   agePct16t24    agePct65up  \\\n",
       "count  10000.000000  10000.000000  10000.000000  10000.000000  10000.000000   \n",
       "mean       9.145916     14.495645     28.333771     14.356881     11.601413   \n",
       "std       15.038292      4.366464      6.055458      5.864310      4.687370   \n",
       "min      -46.295642     -2.668181      3.621755     -8.754094     -7.983561   \n",
       "25%       -0.983208     11.526544     24.167869     10.357358      8.447661   \n",
       "50%        9.113696     14.513375     28.363664     14.345764     11.592319   \n",
       "75%       19.229481     17.482827     32.393697     18.367032     14.784722   \n",
       "max       71.572084     30.409016     52.656305     36.327834     29.684495   \n",
       "\n",
       "            ...        MedOwnCostPctInc  MedOwnCostPctIncNoMt  PctForeignBorn  \\\n",
       "count       ...            10000.000000          10000.000000    10000.000000   \n",
       "mean        ...               21.393853             13.079326        8.139259   \n",
       "std         ...                2.893516              1.490324        8.990881   \n",
       "min         ...                9.353743              8.137280      -26.280770   \n",
       "25%         ...               19.478823             12.076508        2.056403   \n",
       "50%         ...               21.391075             13.075078        8.076859   \n",
       "75%         ...               23.345506             14.076448       14.151000   \n",
       "max         ...               32.277046             20.187911       45.073471   \n",
       "\n",
       "       PctBornSameState  PctSameHouse85  PctSameCity85  PctSameState85  \\\n",
       "count      10000.000000    10000.000000   10000.000000    10000.000000   \n",
       "mean          59.335357       49.848035      76.489240       87.066440   \n",
       "std           16.545429       10.246738      10.611036        7.624601   \n",
       "min           -6.830894       12.748081      34.869756       54.343077   \n",
       "25%           48.150934       43.055493      69.242789       81.966967   \n",
       "50%           59.497296       49.844510      76.428443       87.028876   \n",
       "75%           70.445195       56.606227      83.655737       92.294077   \n",
       "max          115.125160       87.766202     118.673852      121.071668   \n",
       "\n",
       "           LandArea       PopDens  PctUsePubTrans  \n",
       "count  10000.000000  10000.000000    10000.000000  \n",
       "mean      37.890711   2986.931696        3.564345  \n",
       "std      150.014370   2965.721943        5.494447  \n",
       "min     -522.566887  -7949.431524      -16.343034  \n",
       "25%      -63.445145    978.731437       -0.123268  \n",
       "50%       36.863548   2978.381372        3.587335  \n",
       "75%      139.728264   4929.300664        7.240451  \n",
       "max      641.299903  13811.609161       23.291841  \n",
       "\n",
       "[8 rows x 96 columns]"
      ]
     },
     "execution_count": 47,
     "metadata": {},
     "output_type": "execute_result"
    }
   ],
   "source": [
    "d_virt=pd.DataFrame(X_virt, columns=X_train.columns)\n",
    "d_virt.describe()"
   ]
  },
  {
   "cell_type": "markdown",
   "metadata": {},
   "source": [
    "#### Label the new data using the Gradient Boosting as an oracle"
   ]
  },
  {
   "cell_type": "code",
   "execution_count": 48,
   "metadata": {},
   "outputs": [
    {
     "name": "stdout",
     "output_type": "stream",
     "text": [
      "[ 823.987 1251.288  866.209 ...  760.025  622.49  1980.442]\n"
     ]
    }
   ],
   "source": [
    "y_virt=gbr.predict(d_virt)\n",
    "print(y_virt)"
   ]
  },
  {
   "cell_type": "markdown",
   "metadata": {},
   "source": [
    "### Let's try to train a tree on these virtual data"
   ]
  },
  {
   "cell_type": "code",
   "execution_count": 49,
   "metadata": {
    "scrolled": true
   },
   "outputs": [
    {
     "name": "stdout",
     "output_type": "stream",
     "text": [
      "k= 3 average cross-validation score: 0.68\n",
      "k= 4 average cross-validation score: 0.74\n",
      "k= 5 average cross-validation score: 0.79\n",
      "k= 6 average cross-validation score: 0.82\n",
      "k= 7 average cross-validation score: 0.83\n",
      "k= 8 average cross-validation score: 0.84\n",
      "k= 9 average cross-validation score: 0.84\n",
      "k= 10 average cross-validation score: 0.83\n",
      "k= 11 average cross-validation score: 0.82\n"
     ]
    }
   ],
   "source": [
    "for i in range (3,12):\n",
    "    tree = DecisionTreeRegressor(max_depth=i,random_state=42)\n",
    "    score=cross_val_score(tree,d_virt,y_virt,cv=5).mean() \n",
    "    print(\"k=\",i,\"average cross-validation score: {:.2f}\".format(score))"
   ]
  },
  {
   "cell_type": "markdown",
   "metadata": {},
   "source": [
    "###  Is our new single tree a good predictor ? Let's check on the test set"
   ]
  },
  {
   "cell_type": "code",
   "execution_count": 51,
   "metadata": {},
   "outputs": [
    {
     "name": "stdout",
     "output_type": "stream",
     "text": [
      "for depth 8\n",
      "R2 on training set is 0.68\n",
      "R2 on test is 0.55\n"
     ]
    }
   ],
   "source": [
    "# optimum is at k=8\n",
    "k=8\n",
    "tree = DecisionTreeRegressor(max_depth=k)\n",
    "tree.fit(d_virt,y_virt)\n",
    "R2_appr=tree.score(X_train,y_train)\n",
    "R2_test=tree.score(X_test,y_test)\n",
    "print('for depth',k)\n",
    "print(\"R2 on training set is {:.2f}\".format(R2_appr))\n",
    "print(\"R2 on test is {:.2f}\".format(R2_test))"
   ]
  },
  {
   "cell_type": "markdown",
   "metadata": {},
   "source": [
    "### Yes it is ! The impromvement over the initial tree is quite significant : the R2 is halfway between the initial tree and the Gradient Boosting."
   ]
  },
  {
   "cell_type": "markdown",
   "metadata": {},
   "source": [
    "### Let's try also with the Random Forest"
   ]
  },
  {
   "cell_type": "code",
   "execution_count": 52,
   "metadata": {},
   "outputs": [],
   "source": [
    "z_virt=rdf.predict(d_virt)"
   ]
  },
  {
   "cell_type": "code",
   "execution_count": 53,
   "metadata": {},
   "outputs": [
    {
     "name": "stdout",
     "output_type": "stream",
     "text": [
      "k= 3 average cross-validation score: 0.818\n",
      "k= 4 average cross-validation score: 0.846\n",
      "k= 5 average cross-validation score: 0.860\n",
      "k= 6 average cross-validation score: 0.866\n",
      "k= 7 average cross-validation score: 0.866\n",
      "k= 8 average cross-validation score: 0.864\n",
      "k= 9 average cross-validation score: 0.860\n",
      "k= 10 average cross-validation score: 0.852\n",
      "k= 11 average cross-validation score: 0.843\n"
     ]
    }
   ],
   "source": [
    "for i in range (3,12):\n",
    "    tree1 = DecisionTreeRegressor(max_depth=i,random_state=42)\n",
    "    score=cross_val_score(tree1,d_virt,z_virt,cv=5).mean() \n",
    "    print(\"k=\",i,\"average cross-validation score: {:.3f}\".format(score))"
   ]
  },
  {
   "cell_type": "code",
   "execution_count": 54,
   "metadata": {},
   "outputs": [
    {
     "name": "stdout",
     "output_type": "stream",
     "text": [
      "pour une profondeur de 6\n",
      "le R2 sur l'échantillon d'apprentissage original est de 0.65\n",
      "et le R2 sur le vrai échantillon de test est de 0.51\n"
     ]
    }
   ],
   "source": [
    "# optimum is k=6\n",
    "k=6\n",
    "tree1 = DecisionTreeRegressor(max_depth=k)\n",
    "tree1.fit(d_virt,y_virt)\n",
    "R2_appr=tree1.score(X_train,y_train)\n",
    "R2_test=tree1.score(X_test,y_test)\n",
    "print('pour une profondeur de',k)\n",
    "print(\"le R2 sur l'échantillon d'apprentissage original est de {:.2f}\".format(R2_appr))\n",
    "print(\"et le R2 sur le vrai échantillon de test est de {:.2f}\".format(R2_test))"
   ]
  },
  {
   "cell_type": "markdown",
   "metadata": {},
   "source": [
    "## Logicaly, as the random forest is less performing than the gradient boosting, so is the RF-helpded tree less performing than the (more deep) GB-helped tree."
   ]
  },
  {
   "cell_type": "code",
   "execution_count": 55,
   "metadata": {},
   "outputs": [
    {
     "data": {
      "text/plain": [
       "<matplotlib.figure.Figure at 0x14df143c630>"
      ]
     },
     "metadata": {},
     "output_type": "display_data"
    },
    {
     "data": {
      "image/png": "[encoded data removed]",
      "text/plain": [
       "<matplotlib.figure.Figure at 0x14df0d8a5f8>"
      ]
     },
     "metadata": {},
     "output_type": "display_data"
    }
   ],
   "source": [
    "# adapted from Muller & Guido \n",
    "# https://github.com/amueller/introduction_to_ml_with_python/blob/master/02-supervised-learning.ipynb\n",
    "\n",
    "def plot_feature_importances(model, Frame):\n",
    "    plt.clf()\n",
    "    n_features=len(Frame.columns)\n",
    "    plt.figure(figsize=(15,15))\n",
    "    plt.barh(range(n_features), model.feature_importances_, align='center')\n",
    "    plt.yticks(np.arange(n_features), Frame.columns)\n",
    "    plt.xlabel(\"Feature importance\")\n",
    "    plt.ylabel(\"Feature\")\n",
    "    plt.ylim(-1, n_features)\n",
    "\n",
    "\n",
    "plot_feature_importances(tree1,X_train)\n",
    "plt.show()  "
   ]
  },
  {
   "cell_type": "code",
   "execution_count": null,
   "metadata": {},
   "outputs": [],
   "source": []
  }
 ],
 "metadata": {
  "kernelspec": {
   "display_name": "Python 3",
   "language": "python",
   "name": "python3"
  },
  "language_info": {
   "codemirror_mode": {
    "name": "ipython",
    "version": 3
   },
   "file_extension": ".py",
   "mimetype": "text/x-python",
   "name": "python",
   "nbconvert_exporter": "python",
   "pygments_lexer": "ipython3",
   "version": "3.6.4"
  }
 },
 "nbformat": 4,
 "nbformat_minor": 2
}
